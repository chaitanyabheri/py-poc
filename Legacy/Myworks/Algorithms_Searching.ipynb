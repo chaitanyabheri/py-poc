{
 "cells": [
  {
   "cell_type": "markdown",
   "metadata": {},
   "source": [
    "#Linear Search<br>#Binary Search Without Recursion<br>#Binary Search with Recursion"
   ]
  },
  {
   "cell_type": "markdown",
   "metadata": {},
   "source": [
    "# Linear Search\n",
    "Space --> \n",
    "Time --> "
   ]
  },
  {
   "cell_type": "code",
   "execution_count": 43,
   "metadata": {},
   "outputs": [
    {
     "data": {
      "text/plain": [
       "4"
      ]
     },
     "execution_count": 43,
     "metadata": {},
     "output_type": "execute_result"
    }
   ],
   "source": [
    "arr =[1, 2, 3, 4, 5, 6, 7]\n",
    "x = 5\n",
    "\n",
    "def LSearch(arr,x):\n",
    "    for i in range(0,len(arr)-1):\n",
    "        if arrxq[i]==x:\n",
    "            return(i)\n",
    "    return(-1)\n",
    "\n",
    "LSearch(arr,x)"
   ]
  },
  {
   "cell_type": "markdown",
   "metadata": {},
   "source": [
    "# Binary Search with Recursion\n",
    "https://www.sanfoundry.com/python-program-implement-binary-search-recursion/"
   ]
  },
  {
   "cell_type": "code",
   "execution_count": 118,
   "metadata": {},
   "outputs": [
    {
     "data": {
      "text/plain": [
       "-1"
      ]
     },
     "execution_count": 118,
     "metadata": {},
     "output_type": "execute_result"
    }
   ],
   "source": [
    "def BSearch(arr, st, end, key):\n",
    "    if not st <end:\n",
    "        return -1\n",
    "    \n",
    "    mid = (st+end)//2\n",
    "    \n",
    "    if arr[mid]==key:\n",
    "        return mid\n",
    "    elif arr[mid]<key:\n",
    "        return BSearch(arr, mid+1, end, key)\n",
    "    else:\n",
    "        return BSearch(arr, st,mid, key)\n",
    "\n",
    "arr = [1,2,3,4,5,6]\n",
    "st, end, key = 0, len(arr), 8\n",
    "BSearch(arr, st, end, key)\n"
   ]
  },
  {
   "cell_type": "markdown",
   "metadata": {},
   "source": [
    "# Binary Search Without Recursion\n",
    "https://www.sanfoundry.com/python-program-implement-binary-search-without-recursion/"
   ]
  },
  {
   "cell_type": "code",
   "execution_count": 110,
   "metadata": {},
   "outputs": [
    {
     "data": {
      "text/plain": [
       "2"
      ]
     },
     "execution_count": 110,
     "metadata": {},
     "output_type": "execute_result"
    }
   ],
   "source": [
    "def BSearch(arr, Key):\n",
    "    st = 0\n",
    "    end = len(arr)\n",
    "    while st<end:\n",
    "        mid = (st+end)//2\n",
    "        if arr[mid]>key:\n",
    "            end = mid\n",
    "        elif arr[mid]<key:\n",
    "            st = mid+1\n",
    "        else:\n",
    "            return mid\n",
    "    return -1\n",
    "    \n",
    "arr = [1,2,3,4,5,6]\n",
    "st, end, key = 0, len(arr), 3\n",
    "BSearch(arr,key)\n"
   ]
  },
  {
   "cell_type": "code",
   "execution_count": null,
   "metadata": {},
   "outputs": [],
   "source": []
  }
 ],
 "metadata": {
  "kernelspec": {
   "display_name": "Python 3",
   "language": "python",
   "name": "python3"
  },
  "language_info": {
   "codemirror_mode": {
    "name": "ipython",
    "version": 3
   },
   "file_extension": ".py",
   "mimetype": "text/x-python",
   "name": "python",
   "nbconvert_exporter": "python",
   "pygments_lexer": "ipython3",
   "version": "3.7.1"
  }
 },
 "nbformat": 4,
 "nbformat_minor": 2
}
