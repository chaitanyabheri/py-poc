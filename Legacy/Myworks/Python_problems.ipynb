{
 "cells": [
  {
   "cell_type": "markdown",
   "metadata": {},
   "source": [
    "# create list of tupples for duplicate file content"
   ]
  },
  {
   "cell_type": "code",
   "execution_count": 11,
   "metadata": {},
   "outputs": [
    {
     "name": "stdout",
     "output_type": "stream",
     "text": [
      "/Users/mbheri/PycharmProjects/cbdev/Myworks\n"
     ]
    }
   ],
   "source": [
    "import os\n",
    "\n",
    "print(os.getcwd())\n"
   ]
  },
  {
   "cell_type": "code",
   "execution_count": null,
   "metadata": {},
   "outputs": [],
   "source": [
    "# create 5 files \n",
    "f1= open('file1.txt','x')\n",
    "f2= open('file2.txt','x')\n",
    "f3= open('file3.txt','x')\n",
    "f4= open('file4.txt','x')\n",
    "f5= open('file5.txt','x')"
   ]
  },
  {
   "cell_type": "code",
   "execution_count": 2,
   "metadata": {},
   "outputs": [
    {
     "data": {
      "text/plain": [
       "42"
      ]
     },
     "execution_count": 2,
     "metadata": {},
     "output_type": "execute_result"
    }
   ],
   "source": [
    "#add data to five files  1&4 2&3 duplicate content\n",
    "f1=open('file1.txt','w')\n",
    "f1.write('This is Line1\\nLine\\nLine3 cont\\nEnd of Line4')\n",
    "f1.write('This is Line1\\nLine\\nLine3 cont\\nEnd of Line4')\n",
    "f2=open('file2.txt','w')\n",
    "f2.write('This is Line1\\nLine\\nLine3 cont\\nEnd of Line4')\n",
    "f3=open('file3.txt','w')\n",
    "f3.write('This is Line1\\nLine\\nLine3 cont\\nEnd of Line4')\n",
    "f4=open('file4.txt','w')\n",
    "f4.write('This is Line1\\nLine\\nLine3 cont\\nEnd of Line4')\n",
    "f4.write('This is Line1\\nLine\\nLine3 cont\\nEnd of Line4')"
   ]
  },
  {
   "cell_type": "code",
   "execution_count": 21,
   "metadata": {},
   "outputs": [],
   "source": [
    "#open files in read format\n",
    "f1= open('file1.txt','r')\n",
    "f2= open('file3.txt','r')\n",
    "f3= open('file3.txt','r')\n",
    "f4= open('file4.txt','r')\n",
    "f5= open('file5.txt','r')\n",
    "\n",
    "#generate hash values for file content\n",
    "#load to dictionary \n",
    "#remoive duokicates "
   ]
  },
  {
   "cell_type": "code",
   "execution_count": 146,
   "metadata": {},
   "outputs": [
    {
     "name": "stdout",
     "output_type": "stream",
     "text": [
      "['file2.txt', 'file3.txt']\n",
      "['file1.txt', 'file4.txt']\n"
     ]
    }
   ],
   "source": [
    "# for each file in directory \n",
    "import os\n",
    "import hashlib\n",
    "\n",
    "Dir = '/Users/mbheri/PycharmProjects/cbdev/Myworks/'\n",
    "d = {}\n",
    "for file in os.listdir(Dir):\n",
    "    #print(file)\n",
    "    if file[:-5:-1]=='txt.':\n",
    "        #print(file)\n",
    "\n",
    "# create hash\n",
    "        blocksize = 65536\n",
    "        hasher = hashlib.md5()\n",
    "        with open(Dir +file, 'rb') as r_file:\n",
    "            buf = r_file.read(blocksize)\n",
    "            while (len(buf)>0):\n",
    "                hasher.update(buf)\n",
    "                buf = r_file.read(blocksize)     \n",
    "        #print(file, ',', hasher.hexdigest())\n",
    "        hash_key = hasher.hexdigest()\n",
    "        \n",
    "# create dict   hash keys , duplicate file name values\n",
    "\n",
    "        if hash_key not in d.keys():\n",
    "            d[hash_key]= [file]\n",
    "        else:\n",
    "            d[hash_key].append(file)\n",
    "\n",
    "# convert duplicate files list\n",
    "for key, value in d.items():\n",
    "    if len(d[key])>1:\n",
    "        print(value)\n",
    "# return output"
   ]
  },
  {
   "cell_type": "markdown",
   "metadata": {},
   "source": [
    "## Find largest palindrone in text file"
   ]
  },
  {
   "cell_type": "code",
   "execution_count": 128,
   "metadata": {},
   "outputs": [
    {
     "name": "stdout",
     "output_type": "stream",
     "text": [
      "{1: ['1'], 2: ['sds']}\n",
      "{1: ['1'], 2: ['sds']} True\n"
     ]
    }
   ],
   "source": [
    "d={}\n",
    "d[1]=['1']\n",
    "file = 'sds'\n",
    "d[2]=[file]\n",
    "print(d)\n",
    "\n",
    "if 1 in d.keys():\n",
    "    print(d, True)\n",
    "else:\n",
    "    print(False)"
   ]
  },
  {
   "cell_type": "code",
   "execution_count": 138,
   "metadata": {},
   "outputs": [
    {
     "data": {
      "text/plain": [
       "[1, 2, 4, 'ssds']"
      ]
     },
     "execution_count": 138,
     "metadata": {},
     "output_type": "execute_result"
    }
   ],
   "source": [
    "l=[1,2,4]\n",
    "l.append('ssds')\n",
    "l"
   ]
  },
  {
   "cell_type": "code",
   "execution_count": 155,
   "metadata": {},
   "outputs": [
    {
     "name": "stdout",
     "output_type": "stream",
     "text": [
      "1\n",
      "<class 'int'>\n",
      "1.3\n",
      "<class 'float'>\n",
      "bharathi\n",
      "<class 'str'>\n"
     ]
    }
   ],
   "source": [
    "#string\n",
    "\n",
    "v=1\n",
    "print(v)\n",
    "print(type(v))\n",
    "\n",
    "v=1.3\n",
    "print(v)\n",
    "print(type(v))\n",
    "\n",
    "v='bharathi'\n",
    "print(v)\n",
    "print(type(v))\n",
    "\n"
   ]
  },
  {
   "cell_type": "code",
   "execution_count": null,
   "metadata": {},
   "outputs": [],
   "source": []
  },
  {
   "cell_type": "code",
   "execution_count": 17,
   "metadata": {},
   "outputs": [],
   "source": [
    "f1= open('file1.txt','r')\n",
    "f2= open('file3.txt','r')\n",
    "f3= open('file3.txt','r')\n",
    "f4= open('file4.txt','r')\n",
    "f5= open('file5.txt','r')"
   ]
  }
 ],
 "metadata": {
  "kernelspec": {
   "display_name": "Python 3",
   "language": "python",
   "name": "python3"
  },
  "language_info": {
   "codemirror_mode": {
    "name": "ipython",
    "version": 3
   },
   "file_extension": ".py",
   "mimetype": "text/x-python",
   "name": "python",
   "nbconvert_exporter": "python",
   "pygments_lexer": "ipython3",
   "version": "3.7.1"
  }
 },
 "nbformat": 4,
 "nbformat_minor": 2
}
