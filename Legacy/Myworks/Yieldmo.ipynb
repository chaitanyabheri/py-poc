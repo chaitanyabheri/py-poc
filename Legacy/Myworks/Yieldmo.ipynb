{
 "cells": [
  {
   "cell_type": "code",
   "execution_count": 20,
   "metadata": {},
   "outputs": [],
   "source": [
    "l=[{'Name':'Mr. X', 'phone':'123-456-7890', 'email': 'x@yieldmo.com'},\n",
    "{'Name':'Ms. Y', 'phone':'456-789-1234', 'email': 'y@yieldmo.com'},\n",
    "{'Name':'Mr. X1', 'phone':'123-456-7890', 'email': 'x@gmail.com'},\n",
    "{'Name':'Ms. Y1', 'phone':'456-789-9999', 'email': 'y@yieldmo.com'}]\n"
   ]
  },
  {
   "cell_type": "code",
   "execution_count": 10,
   "metadata": {},
   "outputs": [
    {
     "data": {
      "text/plain": [
       "[[{'Name': 'Mr. X', 'phone': '123-456-7890', 'email': 'x@yieldmo.com'},\n",
       "  {'Name': 'Mr. X1', 'phone': '123-456-7890', 'email': 'x@gmail.com'}],\n",
       " [{'Name': 'Ms. Y', 'phone': '456-789-1234', 'email': 'y@yieldmo.com'},\n",
       "  {'Name': 'Ms. Y1', 'phone': '456-789-9999', 'email': 'y@yieldmo.com'}]]"
      ]
     },
     "execution_count": 10,
     "metadata": {},
     "output_type": "execute_result"
    }
   ],
   "source": [
    "[\n",
    "[{'Name':'Mr. X', 'phone':'123-456-7890', 'email': 'x@yieldmo.com'}\n",
    " ,{'Name':'Mr. X1', 'phone':'123-456-7890', 'email': 'x@gmail.com'}],\n",
    "[{'Name':'Ms. Y', 'phone':'456-789-1234', 'email': 'y@yieldmo.com'}\n",
    " ,{'Name':'Ms. Y1', 'phone':'456-789-9999', 'email': 'y@yieldmo.com'}]\n",
    "]\n"
   ]
  },
  {
   "cell_type": "code",
   "execution_count": 117,
   "metadata": {},
   "outputs": [
    {
     "name": "stdout",
     "output_type": "stream",
     "text": [
      "Mr. X\n",
      "{'Name': 'Mr. X', 'phone': 'gaurav@gmail.com', 'email': 'x@yieldmo.com'}\n"
     ]
    },
    {
     "ename": "IndexError",
     "evalue": "list index out of range",
     "output_type": "error",
     "traceback": [
      "\u001b[0;31m---------------------------------------------------------------------------\u001b[0m",
      "\u001b[0;31mIndexError\u001b[0m                                Traceback (most recent call last)",
      "\u001b[0;32m<ipython-input-117-b322de2e6043>\u001b[0m in \u001b[0;36m<module>\u001b[0;34m\u001b[0m\n\u001b[1;32m     20\u001b[0m \u001b[0marr\u001b[0m \u001b[0;34m=\u001b[0m \u001b[0;34m[\u001b[0m\u001b[0mcontact\u001b[0m\u001b[0;34m(\u001b[0m\u001b[0;34m\"Mr. X\"\u001b[0m\u001b[0;34m,\u001b[0m \u001b[0;34m\"gaurav@gmail.com\"\u001b[0m\u001b[0;34m,\u001b[0m \u001b[0;34m\"x@yieldmo.com\"\u001b[0m\u001b[0;34m)\u001b[0m\u001b[0;34m]\u001b[0m\u001b[0;34m\u001b[0m\u001b[0;34m\u001b[0m\u001b[0m\n\u001b[1;32m     21\u001b[0m \u001b[0mprint\u001b[0m\u001b[0;34m(\u001b[0m\u001b[0marr\u001b[0m\u001b[0;34m[\u001b[0m\u001b[0;36m0\u001b[0m\u001b[0;34m]\u001b[0m\u001b[0;34m.\u001b[0m\u001b[0mmyfunc\u001b[0m\u001b[0;34m(\u001b[0m\u001b[0;34m)\u001b[0m\u001b[0;34m)\u001b[0m\u001b[0;34m\u001b[0m\u001b[0;34m\u001b[0m\u001b[0m\n\u001b[0;32m---> 22\u001b[0;31m \u001b[0mprint\u001b[0m\u001b[0;34m(\u001b[0m\u001b[0marr\u001b[0m\u001b[0;34m[\u001b[0m\u001b[0;36m1\u001b[0m\u001b[0;34m]\u001b[0m\u001b[0;34m.\u001b[0m\u001b[0mmyfunc\u001b[0m\u001b[0;34m(\u001b[0m\u001b[0;34m)\u001b[0m\u001b[0;34m)\u001b[0m\u001b[0;34m\u001b[0m\u001b[0;34m\u001b[0m\u001b[0m\n\u001b[0m",
      "\u001b[0;31mIndexError\u001b[0m: list index out of range"
     ]
    }
   ],
   "source": [
    "#Function Signature\n",
    "#class Contact('Name': String, 'phone': String, 'email': String)\n",
    "#def mergeUsers(contacts: List[Contact]): List[List[Contact]]\n",
    "\n",
    "#class contact  \n",
    "class contact:\n",
    "    def __init__ (self, Name,  \n",
    "                       phone, email): \n",
    "        self.Name = Name \n",
    "        self.phone = phone \n",
    "        self.email = email \n",
    "        \n",
    "    def myfunc(self):\n",
    "        l = {'Name':self.Name, 'phone':self.phone, 'email':self.email}\n",
    "        return l\n",
    "\n",
    "p1 = contact(\"Mr. X\", \"gaurav@gmail.com\", \"x@yieldmo.com\")\n",
    "print((p1.myfunc())['Name'])\n",
    "\n",
    "arr = [contact(\"Mr. X\", \"gaurav@gmail.com\", \"x@yieldmo.com\")]\n",
    "print(arr[0].myfunc())\n",
    "print(arr[1].myfunc())\n"
   ]
  },
  {
   "cell_type": "code",
   "execution_count": 123,
   "metadata": {},
   "outputs": [
    {
     "name": "stdout",
     "output_type": "stream",
     "text": [
      "{'Name': 'Gaurav', 'phone': 'gaurav@gmail.com', 'email': 'gaurav@gfgQA.com'}\n",
      "{'Name': 'Lucky', 'phone': 'lucky@gmail.com', 'email': '+1234567'}\n",
      "{'Name': 'gaurav123', 'phone': '+5412312', 'email': 'gaurav123@skype.com'}\n",
      "{'Name': 'gaurav1993', 'phone': '+5412312', 'email': 'gaurav@gfgQA.com'}\n",
      "{'Name': 'raja', 'phone': '+2231210', 'email': 'raja@gfg.com'}\n",
      "{'Name': 'bahubali', 'phone': '+878312', 'email': 'raja'}\n"
     ]
    }
   ],
   "source": [
    "arr = [contact(\"Gaurav\", \"gaurav@gmail.com\", \"gaurav@gfgQA.com\"),  \n",
    "       contact(\"Lucky\", \"lucky@gmail.com\", \"+1234567\"),  \n",
    "       contact(\"gaurav123\", \"+5412312\", \"gaurav123@skype.com\"),  \n",
    "       contact(\"gaurav1993\", \"+5412312\", \"gaurav@gfgQA.com\"),  \n",
    "       contact(\"raja\", \"+2231210\", \"raja@gfg.com\"), \n",
    "       contact(\"bahubali\", \"+878312\", \"raja\")] \n",
    "print(arr[0].myfunc())\n",
    "print(arr[1].myfunc())\n",
    "print(arr[2].myfunc())\n",
    "print(arr[3].myfunc())\n",
    "print(arr[4].myfunc())\n",
    "print(arr[5].myfunc())\n",
    "\n"
   ]
  },
  {
   "cell_type": "code",
   "execution_count": 148,
   "metadata": {},
   "outputs": [
    {
     "name": "stdout",
     "output_type": "stream",
     "text": [
      "Gaurav gaurav@gmail.com gaurav@gfgQA.com gaurav1993 +5412312 gaurav@gfgQA.com gaurav123 +5412312 gaurav123@skype.com \n",
      "Lucky lucky@gmail.com +1234567 \n",
      "raja +2231210 raja@gfg.com bahubali +878312 raja \n"
     ]
    }
   ],
   "source": [
    "class contact: \n",
    "    def __init__(self, field1,  \n",
    "                       field2, field3): \n",
    "        self.field1 = field1 \n",
    "        self.field2 = field2 \n",
    "        self.field3 = field3 \n",
    "  \n",
    "# A utility function to fill entries in  \n",
    "# adjacency matrix representation of graph  \n",
    "def buildGraph(arr, n, mat): \n",
    "      \n",
    "    # Initialize the adjacency matrix \n",
    "    for i in range(n): \n",
    "        for j in range(n): \n",
    "            mat[i][j] = 0\n",
    "  \n",
    "    # Traverse through all contacts  \n",
    "    for i in range(n): \n",
    "  \n",
    "        # Add mat from i to j and vice versa,  \n",
    "        # if possible. Since length of each  \n",
    "        # contact field is at max some constant. \n",
    "        # (say 30) so body execution of this for  \n",
    "        # loop takes constant time. \n",
    "        for j in range(i + 1, n): \n",
    "            if (arr[i].field1 == arr[j].field1 or \n",
    "                arr[i].field1 == arr[j].field2 or \n",
    "                arr[i].field1 == arr[j].field3 or \n",
    "                arr[i].field2 == arr[j].field1 or \n",
    "                arr[i].field2 == arr[j].field2 or \n",
    "                arr[i].field2 == arr[j].field3 or \n",
    "                arr[i].field3 == arr[j].field1 or \n",
    "                arr[i].field3 == arr[j].field2 or \n",
    "                arr[i].field3 == arr[j].field3): \n",
    "                mat[i][j] = 1\n",
    "                mat[j][i] = 1\n",
    "                break\n",
    "  \n",
    "# A recuesive function to perform DFS  \n",
    "# with vertex i as source  \n",
    "def DFSvisit(i, mat, visited, sol, n): \n",
    "    visited[i] = True\n",
    "    sol.append(i)  \n",
    "  \n",
    "    for j in range(n): \n",
    "        if (mat[i][j] and not visited[j]): \n",
    "            DFSvisit(j, mat, visited, sol, n) \n",
    "  \n",
    "# Finds similar contacrs in an \n",
    "# array of contacts  \n",
    "def findSameContacts(arr, n): \n",
    "      \n",
    "    # vector for storing the solution  \n",
    "    sol = [] \n",
    "  \n",
    "    # Declare 2D adjaceny matrix for mats  \n",
    "    mat = [[None] * n for i in range(n)]  \n",
    "  \n",
    "    # visited array to keep track \n",
    "    # of visited nodes  \n",
    "    visited = [0] * n \n",
    "  \n",
    "    # Fill adjacency matrix  \n",
    "    buildGraph(arr, n, mat)  \n",
    "  \n",
    "    # Since, we made a graph with contacts   \n",
    "    # as nodes with fields as links. Two  \n",
    "    # nodes are linked if they represent \n",
    "    # the same person. So, total number of  \n",
    "    # connected components and nodes in each \n",
    "    # component will be our answer. \n",
    "    for i in range(n): \n",
    "        if (not visited[i]): \n",
    "            DFSvisit(i, mat, visited, sol, n)  \n",
    "  \n",
    "            # Add delimeter to separate nodes \n",
    "            # of one component from other.  \n",
    "            sol.append(-1) \n",
    "  \n",
    "    # Prthe solution \n",
    "    for i in range(len(sol)): \n",
    "        if (sol[i] == -1): \n",
    "            print() \n",
    "        else: \n",
    "            print(arr[sol[i]].field1,arr[sol[i]].field2,arr[sol[i]].field3, end = \" \") \n",
    "            \n",
    "  \n",
    "# Driver Code  \n",
    "if __name__ == '__main__':  \n",
    "    arr = [contact(\"Gaurav\", \"gaurav@gmail.com\", \"gaurav@gfgQA.com\"),  \n",
    "           contact(\"Lucky\", \"lucky@gmail.com\", \"+1234567\"),  \n",
    "           contact(\"gaurav123\", \"+5412312\", \"gaurav123@skype.com\"),  \n",
    "           contact(\"gaurav1993\", \"+5412312\", \"gaurav@gfgQA.com\"),  \n",
    "           contact(\"raja\", \"+2231210\", \"raja@gfg.com\"), \n",
    "           contact(\"bahubali\", \"+878312\", \"raja\")] \n",
    "  \n",
    "    n = len(arr)  \n",
    "    findSameContacts(arr, n) \n",
    "    #mat = [[None] * n for i in range(n)]  \n",
    "    #print(buildGraph(arr, n, mat)) "
   ]
  },
  {
   "cell_type": "code",
   "execution_count": 134,
   "metadata": {},
   "outputs": [
    {
     "data": {
      "text/plain": [
       "[[None, None, None], [None, None, None], [None, None, None]]"
      ]
     },
     "execution_count": 134,
     "metadata": {},
     "output_type": "execute_result"
    }
   ],
   "source": [
    "n= 3\n",
    "l=[[None] * n for i in range(n)]\n",
    "l"
   ]
  },
  {
   "cell_type": "markdown",
   "metadata": {},
   "source": [
    "# solution without graph"
   ]
  },
  {
   "cell_type": "code",
   "execution_count": 158,
   "metadata": {},
   "outputs": [
    {
     "name": "stdout",
     "output_type": "stream",
     "text": [
      "{'Name': 'Gaurav', 'phone': 'gaurav@gmail.com', 'email': 'gaurav@gfgQA.com'}\n"
     ]
    }
   ],
   "source": [
    "#Function Signature\n",
    "#class Contact('Name': String, 'phone': String, 'email': String)\n",
    "#def mergeUsers(contacts: List[Contact]): List[List[Contact]]\n",
    "\n",
    "#class contact  \n",
    "class contact:\n",
    "    def __init__ (self, Name,  \n",
    "                       phone, email): \n",
    "        self.Name = Name \n",
    "        self.phone = phone \n",
    "        self.email = email \n",
    "        \n",
    "    def myfunc(self):\n",
    "        l = {'Name':self.Name, 'phone':self.phone, 'email':self.email}\n",
    "        return l\n",
    "\n",
    "#p1 = contact(\"Mr. X\", \"gaurav@gmail.com\", \"x@yieldmo.com\")\n",
    "#print((p1.myfunc())['Name'])\n",
    "\n",
    "arr = [contact(\"Gaurav\", \"gaurav@gmail.com\", \"gaurav@gfgQA.com\"),  \n",
    "       contact(\"Lucky\", \"lucky@gmail.com\", \"+1234567\"),  \n",
    "       contact(\"gaurav123\", \"+5412312\", \"gaurav123@skype.com\"),  \n",
    "       contact(\"gaurav1993\", \"+5412312\", \"gaurav@gfgQA.com\"),  \n",
    "       contact(\"raja\", \"+2231210\", \"raja@gfg.com\"), \n",
    "       contact(\"bahubali\", \"+878312\", \"raja\")] \n",
    "print(arr[0].myfunc())\n"
   ]
  },
  {
   "cell_type": "code",
   "execution_count": 177,
   "metadata": {},
   "outputs": [
    {
     "name": "stdout",
     "output_type": "stream",
     "text": [
      "<function find_duplicates at 0x104c17f28>\n"
     ]
    },
    {
     "ename": "KeyError",
     "evalue": "0",
     "output_type": "error",
     "traceback": [
      "\u001b[0;31m---------------------------------------------------------------------------\u001b[0m",
      "\u001b[0;31mKeyError\u001b[0m                                  Traceback (most recent call last)",
      "\u001b[0;32m<ipython-input-177-9c8ad0d0ddbb>\u001b[0m in \u001b[0;36m<module>\u001b[0;34m\u001b[0m\n\u001b[1;32m     21\u001b[0m \u001b[0mprint\u001b[0m\u001b[0;34m(\u001b[0m\u001b[0mfind_duplicates\u001b[0m \u001b[0;34m)\u001b[0m\u001b[0;34m\u001b[0m\u001b[0;34m\u001b[0m\u001b[0m\n\u001b[1;32m     22\u001b[0m \u001b[0;34m\u001b[0m\u001b[0m\n\u001b[0;32m---> 23\u001b[0;31m \u001b[0mfind_duplicates\u001b[0m\u001b[0;34m(\u001b[0m\u001b[0marr\u001b[0m\u001b[0;34m[\u001b[0m\u001b[0;36m0\u001b[0m\u001b[0;34m]\u001b[0m\u001b[0;34m.\u001b[0m\u001b[0mmyfunc\u001b[0m\u001b[0;34m(\u001b[0m\u001b[0;34m)\u001b[0m\u001b[0;34m,\u001b[0m\u001b[0mn\u001b[0m\u001b[0;34m)\u001b[0m\u001b[0;34m\u001b[0m\u001b[0;34m\u001b[0m\u001b[0m\n\u001b[0m",
      "\u001b[0;32m<ipython-input-177-9c8ad0d0ddbb>\u001b[0m in \u001b[0;36mfind_duplicates\u001b[0;34m(user_info, n)\u001b[0m\n\u001b[1;32m      3\u001b[0m     \u001b[0mresults\u001b[0m \u001b[0;34m=\u001b[0m \u001b[0mlist\u001b[0m\u001b[0;34m(\u001b[0m\u001b[0;34m)\u001b[0m\u001b[0;34m\u001b[0m\u001b[0;34m\u001b[0m\u001b[0m\n\u001b[1;32m      4\u001b[0m     \u001b[0mseen\u001b[0m \u001b[0;34m=\u001b[0m \u001b[0mdict\u001b[0m\u001b[0;34m(\u001b[0m\u001b[0;34m)\u001b[0m\u001b[0;34m\u001b[0m\u001b[0;34m\u001b[0m\u001b[0m\n\u001b[0;32m----> 5\u001b[0;31m     \u001b[0mprint\u001b[0m\u001b[0;34m(\u001b[0m\u001b[0muser_info\u001b[0m\u001b[0;34m[\u001b[0m\u001b[0;36m0\u001b[0m\u001b[0;34m]\u001b[0m\u001b[0;34m.\u001b[0m\u001b[0mmyfunc\u001b[0m\u001b[0;34m(\u001b[0m\u001b[0;34m)\u001b[0m\u001b[0;34m)\u001b[0m\u001b[0;34m\u001b[0m\u001b[0;34m\u001b[0m\u001b[0m\n\u001b[0m\u001b[1;32m      6\u001b[0m     '''for i, user in enumerate(user_info[0].myfunc()):\n\u001b[1;32m      7\u001b[0m         \u001b[0;32mfor\u001b[0m \u001b[0minfo\u001b[0m \u001b[0;32min\u001b[0m \u001b[0muser\u001b[0m\u001b[0;34m:\u001b[0m\u001b[0;34m\u001b[0m\u001b[0;34m\u001b[0m\u001b[0m\n",
      "\u001b[0;31mKeyError\u001b[0m: 0"
     ]
    }
   ],
   "source": [
    "n=len(arr)\n",
    "def find_duplicates(user_info,n):\n",
    "    results = list()\n",
    "    seen = dict()\n",
    "    print(user_info[0].myfunc())\n",
    "    '''for i, user in enumerate(user_info[0].myfunc()):\n",
    "        for info in user:\n",
    "            if info in seen:\n",
    "                index = seen[info]\n",
    "                results[index].append(i)\n",
    "                pos = index\n",
    "                break\n",
    "        else:\n",
    "            results.append([i])\n",
    "            pos = len(results) - 1\n",
    "        for info in user:\n",
    "            seen[info] = pos\n",
    "    return results\n",
    "    '''\n",
    "\n",
    "print(find_duplicates )   \n",
    "    \n",
    "find_duplicates(arr[0].myfunc(),n)"
   ]
  },
  {
   "cell_type": "code",
   "execution_count": null,
   "metadata": {},
   "outputs": [],
   "source": []
  }
 ],
 "metadata": {
  "kernelspec": {
   "display_name": "Python 3",
   "language": "python",
   "name": "python3"
  },
  "language_info": {
   "codemirror_mode": {
    "name": "ipython",
    "version": 3
   },
   "file_extension": ".py",
   "mimetype": "text/x-python",
   "name": "python",
   "nbconvert_exporter": "python",
   "pygments_lexer": "ipython3",
   "version": "3.7.1"
  }
 },
 "nbformat": 4,
 "nbformat_minor": 2
}
