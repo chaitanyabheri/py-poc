{
 "cells": [
  {
   "cell_type": "code",
   "execution_count": 1,
   "metadata": {},
   "outputs": [
    {
     "name": "stdout",
     "output_type": "stream",
     "text": [
      "1\n",
      "<class 'int'>\n",
      "1.3\n",
      "<class 'float'>\n",
      "bharathi\n",
      "<class 'str'>\n"
     ]
    }
   ],
   "source": [
    "#string\n",
    "\n",
    "v=1\n",
    "print(v)\n",
    "print(type(v))\n",
    "\n",
    "v=1.3\n",
    "print(v)\n",
    "print(type(v))\n",
    "\n",
    "v='bharathi'\n",
    "print(v)\n",
    "print(type(v))\n",
    "\n",
    "\n"
   ]
  },
  {
   "cell_type": "markdown",
   "metadata": {},
   "source": [
    "# List"
   ]
  },
  {
   "cell_type": "code",
   "execution_count": 8,
   "metadata": {},
   "outputs": [
    {
     "name": "stdout",
     "output_type": "stream",
     "text": [
      "[]\n",
      "[1, 2, 'bharathi', 1.3, 1, 2]\n"
     ]
    }
   ],
   "source": [
    "list_1=[]\n",
    "print(list_1)\n",
    "list_2=[1,2,'bharathi',1.3,1,2]\n",
    "print(list_2)\n"
   ]
  },
  {
   "cell_type": "markdown",
   "metadata": {},
   "source": [
    "# set\n",
    "Removed Duplicates"
   ]
  },
  {
   "cell_type": "code",
   "execution_count": 10,
   "metadata": {},
   "outputs": [
    {
     "name": "stdout",
     "output_type": "stream",
     "text": [
      "{1, 2, 'bharathi', 1.3}\n"
     ]
    }
   ],
   "source": [
    "print(set(list_2))"
   ]
  },
  {
   "cell_type": "markdown",
   "metadata": {},
   "source": [
    "# Dictionary\n",
    "Key Value Pair\n",
    "d={'k1':v1,...}"
   ]
  },
  {
   "cell_type": "code",
   "execution_count": 19,
   "metadata": {},
   "outputs": [
    {
     "name": "stdout",
     "output_type": "stream",
     "text": [
      "{'Numbers': 1, 'Name': 'Bharathi'}\n",
      "dict_keys(['Numbers', 'Name'])\n",
      "dict_values([1, 'Bharathi'])\n",
      "dict_items([('Numbers', 1), ('Name', 'Bharathi')])\n",
      "Bharathi\n"
     ]
    }
   ],
   "source": [
    "d={'Numbers':1,'Name':'Bharathi'}\n",
    "print(d)\n",
    "print(d.keys())\n",
    "print(d.values())\n",
    "print(d.items())\n",
    "#print bharathi\n",
    "print(d['Name'])\n"
   ]
  },
  {
   "cell_type": "markdown",
   "metadata": {},
   "source": [
    "# Tupples\n",
    "t=(1,2)"
   ]
  },
  {
   "cell_type": "code",
   "execution_count": 21,
   "metadata": {},
   "outputs": [
    {
     "name": "stdout",
     "output_type": "stream",
     "text": [
      "(1, 2)\n"
     ]
    }
   ],
   "source": [
    "t=(1,2)\n",
    "print(t)"
   ]
  },
  {
   "cell_type": "markdown",
   "metadata": {},
   "source": [
    "# File Operations\n",
    "\n",
    "#\"r\" - Read - Default value. Opens a file for reading, error if the file does not exist\n",
    "#\n",
    "#\"a\" - Append - Opens a file for appending, creates the file if it does not exist\n",
    "#\n",
    "#\"w\" - Write - Opens a file for writing, creates the file if it does not exist\n",
    "#\n",
    "#\"x\" - Create - Creates the specified file, returns an error if the file exists\n",
    "\n",
    "f=open(filename,mode)\n",
    "\n",
    "# create file\n",
    "f1 = open('file.txt','a')\n",
    "f1.write('\\n\\nHello line2')\n"
   ]
  },
  {
   "cell_type": "code",
   "execution_count": 24,
   "metadata": {},
   "outputs": [
    {
     "name": "stdout",
     "output_type": "stream",
     "text": [
      "/Users/mbheri/PycharmProjects/cbdev/Myworks\n"
     ]
    },
    {
     "data": {
      "text/plain": [
       "44"
      ]
     },
     "execution_count": 24,
     "metadata": {},
     "output_type": "execute_result"
    }
   ],
   "source": [
    "import os\n",
    "print(os.getcwd())\n",
    "#create file\n",
    "f1=open('bharathi.txt','a')\n",
    "f1.write('bharathi bharathi bharathi bharathi\\nSriyansh')"
   ]
  },
  {
   "cell_type": "code",
   "execution_count": 32,
   "metadata": {},
   "outputs": [
    {
     "name": "stdout",
     "output_type": "stream",
     "text": [
      "bharathi bharathi bharathi bharathi\n",
      "Sriyansh\n",
      "['bharathi bharathi bharathi bharathi\\n', 'Sriyansh']\n"
     ]
    }
   ],
   "source": [
    "f1=open('bharathi.txt','r')\n",
    "print(f1.read())\n",
    "f1.seek(0)\n",
    "print(f1.readlines())\n",
    "f1.close()\n",
    "\n",
    "with open ()"
   ]
  },
  {
   "cell_type": "code",
   "execution_count": null,
   "metadata": {},
   "outputs": [],
   "source": [
    "Create a file with some names in different lines\n",
    "Read all words from the file and return duplicate words"
   ]
  },
  {
   "cell_type": "markdown",
   "metadata": {},
   "source": [
    "# validate palindrone"
   ]
  },
  {
   "cell_type": "code",
   "execution_count": 29,
   "metadata": {
    "scrolled": true
   },
   "outputs": [
    {
     "name": "stdout",
     "output_type": "stream",
     "text": [
      "chaahc\n",
      "False\n",
      "helleH\n",
      "helleH\n"
     ]
    }
   ],
   "source": [
    "# write a function which takes 2 values and concat the values for validate palindrone\n",
    "# return String if true else False  \n",
    "#input cha ahc --> output chaahc\n",
    "#input hel leH-- > output helleo\n",
    "#input hello world --> op False\n",
    "\n",
    "def is_pali(s1,s2):\n",
    "    s=''\n",
    "\n",
    "    for letter in s1:\n",
    "        if letter.isnumeric() == False:\n",
    "            s=s+letter\n",
    "    for letter in s2:\n",
    "        if letter.isnumeric() == False:\n",
    "            s=s+letter\n",
    "     \n",
    "       \n",
    "    if s.lower()==s[::-1].lower():\n",
    "        return(s)\n",
    "    else:\n",
    "        return False\n",
    "\n",
    "\n",
    "print(is_pali('cha','ahc'))\n",
    "print(is_pali('hello','world'))\n",
    "print(is_pali('hel','leH'))\n",
    "print(is_pali('hel','leH23232'))   #helleH"
   ]
  },
  {
   "cell_type": "markdown",
   "metadata": {},
   "source": [
    "# given number n ; get the sum of prime numbers until n"
   ]
  },
  {
   "cell_type": "code",
   "execution_count": 32,
   "metadata": {},
   "outputs": [
    {
     "name": "stdout",
     "output_type": "stream",
     "text": [
      "1\n",
      "3\n",
      "5\n",
      "7\n",
      "9\n"
     ]
    },
    {
     "data": {
      "text/plain": [
       "15"
      ]
     },
     "execution_count": 32,
     "metadata": {},
     "output_type": "execute_result"
    }
   ],
   "source": [
    "#approach\n",
    "# find if prime and add to sum \n",
    "# prime logic number from 2-num/2 remainder ! =0\n",
    "\n",
    "def is_prime(n):\n",
    "    if (n<=1):\n",
    "        return False\n",
    "    if n== 2 or n==3:\n",
    "        return True\n",
    "    if n>3:\n",
    "        for i in range(2,(n//2) +1):\n",
    "            if n%i==0:\n",
    "                return False\n",
    "        return True\n",
    "    \n",
    "    \n",
    "\n",
    "def sum_prime(n):\n",
    "    sum =0\n",
    "    for i in  range (1,n+1,2):\n",
    "        print(i)\n",
    "        if is_prime(i) == True:\n",
    "            sum+=i\n",
    "        \n",
    "    return(sum)\n",
    "\n",
    "sum_prime(10)"
   ]
  },
  {
   "cell_type": "code",
   "execution_count": null,
   "metadata": {},
   "outputs": [],
   "source": []
  },
  {
   "cell_type": "code",
   "execution_count": null,
   "metadata": {},
   "outputs": [],
   "source": []
  }
 ],
 "metadata": {
  "kernelspec": {
   "display_name": "Python 3",
   "language": "python",
   "name": "python3"
  },
  "language_info": {
   "codemirror_mode": {
    "name": "ipython",
    "version": 3
   },
   "file_extension": ".py",
   "mimetype": "text/x-python",
   "name": "python",
   "nbconvert_exporter": "python",
   "pygments_lexer": "ipython3",
   "version": "3.7.1"
  }
 },
 "nbformat": 4,
 "nbformat_minor": 2
}
