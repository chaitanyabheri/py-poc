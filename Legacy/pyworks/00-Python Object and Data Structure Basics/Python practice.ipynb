{
 "cells": [
  {
   "cell_type": "markdown",
   "metadata": {},
   "source": [
    "# create file"
   ]
  },
  {
   "cell_type": "code",
   "execution_count": 1,
   "metadata": {},
   "outputs": [
    {
     "name": "stdout",
     "output_type": "stream",
     "text": [
      "1\n"
     ]
    }
   ],
   "source": [
    "#\"r\" - Read - Default value. Opens a file for reading, error if the file does not exist\n",
    "#\n",
    "#\"a\" - Append - Opens a file for appending, creates the file if it does not exist\n",
    "#\n",
    "#\"w\" - Write - Opens a file for writing, creates the file if it does not exist\n",
    "#\n",
    "#\"x\" - Create - Creates the specified file, returns an error if the file exists\n",
    "\n",
    "#Open test file\n",
    "\n",
    "f= open('test.txt')\n",
    "\n",
    "#over write data\n",
    "f = open('test.txt','w')\n",
    "f.write('Start this is line1\\nLine2\\nEnd of Line3')\n",
    "# read comments from files\n",
    "f = open('test.txt','r')\n",
    "print('\\n----PRINT FILE CONTENT---\\n',f.read())\n",
    "#seek value to 0\n",
    "f.seek(0)\n",
    "# print characters\n",
    "print('\\n-----PRINT 1st 5 characters---\\n',f.read(5))\n",
    "# read lines readline()\n",
    "f.seek(0)\n",
    "f = open('test.txt','r')\n",
    "print('\\n--ReadLine 1--\\n', f.readline())\n",
    "f.seek(0)\n",
    "print ('\\n--- Read multiple lines --\\n', f.readline())\n",
    "print(f.readline())\n",
    "#### print all lines\n",
    "f.seek(0)\n",
    "print ('--------Read all lines with readlines()----')\n",
    "print (f.readlines())\n",
    "#loop through the file line by line\n",
    "f = open('test.txt','r')\n",
    "print('\\n--------Loop started-')\n",
    "for x in f:\n",
    "    print(x)\n",
    "#Check if file exist\n",
    "print(os.getcwd())\n",
    "\n",
    "if os.path.exists('test.txt'):\n",
    "    print('File exists')\n",
    "else:\n",
    "    print('File does not exists')\n",
    "#print all files in directory\n",
    "dir = os.getcwd()\n",
    "print ('\\n--------List Directories--\\n' , os.listdir(dir))\n",
    "file_list = os.listdir()"
   ]
  },
  {
   "cell_type": "code",
   "execution_count": 132,
   "metadata": {},
   "outputs": [
    {
     "name": "stdout",
     "output_type": "stream",
     "text": [
      "/Users/mbheri/PycharmProjects/cbdev/pyworks/00-Python Object and Data Structure Basics\n",
      "['ABCD,EFGH\\n', 'IJKL,MNOasP\\n', 'hijs,klm\\n', 'ab,Ba']\n"
     ]
    }
   ],
   "source": [
    "import os\n",
    "\n",
    "#create file \n",
    "f= open('hello.csv','w')\n",
    "print (os.getcwd())\n",
    "f.write('ABCD,EFGH\\nIJKL,MNOasP\\nhijs,klm\\nab,Ba')\n",
    "#opne file to read\n",
    "f= open('hello.csv','r')\n",
    "f.seek(0)\n",
    "#print all lines \n",
    "print(f.readlines())\n"
   ]
  },
  {
   "cell_type": "raw",
   "metadata": {},
   "source": [
    "import csv\n",
    "import os\n",
    "\n",
    "def IsPalindrone(s):  \n",
    "    is_p='Y'\n",
    "    if s[i].lower()!=s[~i].lower():\n",
    "            is_p='N'\n",
    "    '''\n",
    "    ns = [letter.lower() for letter in s if letter.isalnum()]\n",
    "    if ns[::-1]==ns:\n",
    "        return 'Y'\n",
    "    else:\n",
    "        return 'N'\n",
    "    '''\n",
    "    return is_p\n",
    "def CombineString(a,b):\n",
    "    s = ''\n",
    "    l=0\n",
    "   \n",
    "    while a and b:\n",
    "        if l%2==0:\n",
    "            s+=a[0]\n",
    "            a=a[1:]\n",
    "        else:\n",
    "            s+=b[0]\n",
    "            b=b[1:]\n",
    "        l+=1\n",
    "    s = s+a+b      \n",
    "    '''l =max(len(a), len(b))\n",
    "    for i in range(l):\n",
    "        try:\n",
    "            l1 = a[i]\n",
    "        except IndexError:\n",
    "            l1=''\n",
    "        try:\n",
    "            l2=b[i]\n",
    "        except:\n",
    "            l2=''\n",
    "        \n",
    "        s = s+ l1+l2\n",
    "    '''      \n",
    "    return(s) \n",
    "\n",
    "with open('hello.csv') as csvfile:\n",
    "    readCSV = csv.reader(csvfile,delimiter=',')\n",
    "    writeCSVRow = []\n",
    "    col2 = []\n",
    "    for row in readCSV:\n",
    "        row_3 = CombineString(row[0], row[1])\n",
    "        print ( row[0], row[1], row_3, IsPalindrone(row_3))\n",
    "        "
   ]
  },
  {
   "cell_type": "code",
   "execution_count": null,
   "metadata": {},
   "outputs": [],
   "source": []
  }
 ],
 "metadata": {
  "kernelspec": {
   "display_name": "Python 3",
   "language": "python",
   "name": "python3"
  },
  "language_info": {
   "codemirror_mode": {
    "name": "ipython",
    "version": 3
   },
   "file_extension": ".py",
   "mimetype": "text/x-python",
   "name": "python",
   "nbconvert_exporter": "python",
   "pygments_lexer": "ipython3",
   "version": "3.7.1"
  }
 },
 "nbformat": 4,
 "nbformat_minor": 2
}
