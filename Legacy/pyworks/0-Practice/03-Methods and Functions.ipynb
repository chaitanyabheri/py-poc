{
 "cells": [
  {
   "cell_type": "markdown",
   "metadata": {},
   "source": [
    "# Methods"
   ]
  },
  {
   "cell_type": "markdown",
   "metadata": {},
   "source": [
    "# String Methods\n",
    "https://docs.python.org/2.4/lib/string-methods.html"
   ]
  },
  {
   "cell_type": "code",
   "execution_count": 62,
   "metadata": {},
   "outputs": [
    {
     "name": "stdout",
     "output_type": "stream",
     "text": [
      " HellO World88\n",
      "capitalize  hello world88\n",
      "center- xxx HellO World88xxx\n",
      "casefold-  hello world88\n",
      "count- 3\n",
      "endswith- False\n",
      "find- 3\n",
      "format-  HellO World88\n",
      "index of e- 2\n",
      "isalnum- False\n",
      "isalpha- False\n"
     ]
    }
   ],
   "source": [
    "s= ' HellO World88'\n",
    "print(s)\n",
    "print('capitalize',s.capitalize())\n",
    "print('center-',s.center(20,'x'))\n",
    "print('casefold-',s.casefold())\n",
    "print('count-',s.count('l'))\n",
    "print('endswith-',s.endswith('d'))\n",
    "print('find-',s.find('l'))\n",
    "print('format-',s.format())\n",
    "print('index of e-', s.index('e'))\n",
    "print('isalnum-',s.isalnum())\n",
    "print('isalpha-',s.isalpha())"
   ]
  },
  {
   "cell_type": "markdown",
   "metadata": {},
   "source": [
    "# Args and KWargs"
   ]
  },
  {
   "cell_type": "code",
   "execution_count": 80,
   "metadata": {},
   "outputs": [
    {
     "name": "stdout",
     "output_type": "stream",
     "text": [
      "30\n",
      "(1, 2, 4, 5)\n",
      "120\n",
      "dict_items([('a', 1), ('b', 24), ('c', 42)])\n",
      "a 1\n",
      "b 24\n",
      "c 42\n",
      "None\n"
     ]
    }
   ],
   "source": [
    "def myfunc(a,b):\n",
    "    return(a+b)*10\n",
    "\n",
    "print(myfunc(1,2))\n",
    "\n",
    "# ENTER ARBITARY NUMBER OF VALUES WITH *..\n",
    "def myfunc(*args):\n",
    "    print(args)\n",
    "    return(sum(args)*10)\n",
    "    \n",
    "\n",
    "print(myfunc(1,2,4,5))\n",
    "\n",
    "\n",
    "#ENTER ARBITARY NUMBER OF KEY VALUES WITH *..\n",
    "def myfun(**kwargs):\n",
    "    print(kwargs.items())\n",
    "    for item,value in kwargs.items():\n",
    "        print(item, value) \n",
    "        #print(value)\n",
    "    \n",
    "print(myfun(a=1,b=24,c=42))"
   ]
  },
  {
   "cell_type": "markdown",
   "metadata": {},
   "source": [
    "# Function practices"
   ]
  },
  {
   "cell_type": "code",
   "execution_count": 130,
   "metadata": {},
   "outputs": [
    {
     "name": "stdout",
     "output_type": "stream",
     "text": [
      "hE Ll0wOrLd\n"
     ]
    }
   ],
   "source": [
    "# practice even and odd based on letters\n",
    "def myfunc(st):\n",
    "    l=''\n",
    "    for index in range(len(st)):\n",
    "        if index%2==0:\n",
    "            l = l+ st[index].lower()\n",
    "        else:\n",
    "            l = l+ st[index].upper()\n",
    "        #print (index, st[index])\n",
    "        \n",
    "        #l = l+letter\n",
    "    return(l)\n",
    "    \n",
    "\n",
    "print(myfunc('Hell0World'))"
   ]
  },
  {
   "cell_type": "code",
   "execution_count": 131,
   "metadata": {},
   "outputs": [
    {
     "data": {
      "text/plain": [
       "[4, 4]"
      ]
     },
     "execution_count": 131,
     "metadata": {},
     "output_type": "execute_result"
    }
   ],
   "source": [
    " def myfunc(*args):\n",
    "    z = [i for i in args if i%2==0]\n",
    "    return z\n",
    "\n",
    "myfunc(1,3,4,5,4)"
   ]
  },
  {
   "cell_type": "code",
   "execution_count": null,
   "metadata": {},
   "outputs": [],
   "source": []
  },
  {
   "cell_type": "code",
   "execution_count": null,
   "metadata": {},
   "outputs": [],
   "source": []
  }
 ],
 "metadata": {
  "kernelspec": {
   "display_name": "Python 3",
   "language": "python",
   "name": "python3"
  },
  "language_info": {
   "codemirror_mode": {
    "name": "ipython",
    "version": 3
   },
   "file_extension": ".py",
   "mimetype": "text/x-python",
   "name": "python",
   "nbconvert_exporter": "python",
   "pygments_lexer": "ipython3",
   "version": "3.7.1"
  }
 },
 "nbformat": 4,
 "nbformat_minor": 2
}
