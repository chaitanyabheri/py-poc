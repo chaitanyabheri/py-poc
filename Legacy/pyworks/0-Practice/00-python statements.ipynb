{
 "cells": [
  {
   "cell_type": "markdown",
   "metadata": {},
   "source": [
    "# WHILE LOOP \n",
    "BREAK CONTINUE PASS"
   ]
  },
  {
   "cell_type": "code",
   "execution_count": 1,
   "metadata": {},
   "outputs": [
    {
     "name": "stdout",
     "output_type": "stream",
     "text": [
      "Value of x = 0, Adding 1 to x\n",
      "Value of x = 1, Adding 1 to x\n",
      "Value of x = 2, Adding 1 to x\n",
      "Value of x = 3, Adding 1 to x\n",
      "Value of x = 4, Adding 1 to x\n",
      "Value of x = 5, Adding 1 to x\n",
      "Value of x = 6, Adding 1 to x\n",
      "Value of x = 7, Adding 1 to x\n",
      "Value of x = 8, Adding 1 to x\n",
      "Value of x = 9, Adding 1 to x\n"
     ]
    }
   ],
   "source": [
    "x = 0\n",
    "while x <10:\n",
    "    print ('Value of x = %s, Adding 1 to x' %x)\n",
    "    x = x+1"
   ]
  },
  {
   "cell_type": "code",
   "execution_count": 2,
   "metadata": {},
   "outputs": [
    {
     "name": "stdout",
     "output_type": "stream",
     "text": [
      "Value of x = 0, Adding 1 to x\n",
      "Value of x = 1, Adding 1 to x\n",
      "Value of x = 2, Adding 1 to x\n",
      "Value of x = 3, Adding 1 to x\n",
      "Value of x = 4, Adding 1 to x\n",
      "Value of x = 5, Adding 1 to x\n",
      "Value of x = 6, Adding 1 to x\n",
      "Value of x = 7, Adding 1 to x\n",
      "Value of x = 8, Adding 1 to x\n",
      "Value of x = 9, Adding 1 to x\n"
     ]
    }
   ],
   "source": [
    "#while with . format \n",
    "x = 0\n",
    "while x <10:\n",
    "    print ('Value of x = {}, Adding 1 to x'.format(x))\n",
    "    x = x+1\n"
   ]
  },
  {
   "cell_type": "code",
   "execution_count": 3,
   "metadata": {},
   "outputs": [
    {
     "name": "stdout",
     "output_type": "stream",
     "text": [
      "Value fox x = 0, adding 1 to x\n",
      "Value fox x = 1, adding 1 to x\n",
      "Value fox x = 2, adding 1 to x\n",
      "Value fox x = 3, adding 1 to x\n",
      "Value fox x = 4, adding 1 to x\n",
      "Value fox x = 5, adding 1 to x\n",
      "Value fox x = 6, adding 1 to x\n",
      "Value fox x = 7, adding 1 to x\n",
      "Value fox x = 8, adding 1 to x\n",
      "Value fox x = 9, adding 1 to x\n"
     ]
    }
   ],
   "source": [
    "#while f string \n",
    "x = 0 \n",
    "while x<10:\n",
    "    print(f\"Value fox x = {x}, adding 1 to x\")\n",
    "    x=x+1"
   ]
  },
  {
   "cell_type": "code",
   "execution_count": 17,
   "metadata": {},
   "outputs": [
    {
     "name": "stdout",
     "output_type": "stream",
     "text": [
      "Value of string x = 0, adding + 1\n",
      "Value of string x = 1, adding + 1\n",
      "Value of string x = 2, adding + 1\n",
      "Value of string x = 3, adding + 1\n",
      "Value of string x = 4, adding + 1\n",
      "Value of string x = 5, adding + 1\n",
      "break issued\n"
     ]
    }
   ],
   "source": [
    "# while with else, break and continue\n",
    "x = 0\n",
    "while x<10: \n",
    "    if (x >5):\n",
    "        print ('break issued')\n",
    "        break  \n",
    "    print ('Value of string x = {}, adding + 1'.format(x)) \n",
    "    x+=1\n",
    "    "
   ]
  },
  {
   "cell_type": "markdown",
   "metadata": {},
   "source": [
    "# Operators\n",
    "in ,range, enumerate, zip, min and max,random , input\n"
   ]
  },
  {
   "cell_type": "code",
   "execution_count": 18,
   "metadata": {},
   "outputs": [
    {
     "name": "stdout",
     "output_type": "stream",
     "text": [
      "False\n",
      "True\n",
      "True\n"
     ]
    }
   ],
   "source": [
    "s = '1231312'\n",
    "print('a' in s)\n",
    "l = ['asd',1,3.4]\n",
    "print('asd' in l)\n",
    "\n",
    "d ={'k1':'2313', 'k2':1231}\n",
    "print('k1'in d)\n",
    "\n",
    "\n"
   ]
  },
  {
   "cell_type": "code",
   "execution_count": 55,
   "metadata": {},
   "outputs": [
    {
     "name": "stdout",
     "output_type": "stream",
     "text": [
      "[0, 1, 2, 3, 4, 5, 6, 7, 8, 9, 10]\n",
      "[0, 2, 4, 6, 8, 10]\n",
      "[0, 1, 2, 3, 4, 5, 6, 7, 8, 9, 10] -list created with comprehension\n",
      "0\n",
      "1\n",
      "2\n",
      "3\n",
      "4\n",
      "5\n",
      "6\n",
      "7\n",
      "8\n",
      "9\n",
      "10\n"
     ]
    }
   ],
   "source": [
    "print(list(range(11)))\n",
    "print(list(range(0,11,2)))\n",
    "\n",
    "l = [i  for i in range(0,11)]\n",
    "print (f'{l} -list created with comprehension')\n",
    "\n",
    "for i in range(0,11):\n",
    "    print(i)"
   ]
  },
  {
   "cell_type": "code",
   "execution_count": 54,
   "metadata": {},
   "outputs": [
    {
     "name": "stdout",
     "output_type": "stream",
     "text": [
      "[(0, 'a'), (1, 'b'), (2, 'c'), (3, 'd'), (4, 'e')]\n",
      "index=0, letter = a\n",
      "index=1, letter = b\n",
      "index=2, letter = c\n",
      "index=3, letter = d\n",
      "index=4, letter = e\n",
      "index=0, letter = a\n",
      "index=1, letter = b\n",
      "index=2, letter = c\n",
      "index=3, letter = d\n",
      "index=4, letter = e\n"
     ]
    }
   ],
   "source": [
    "print(list(enumerate('abcde')))\n",
    "\n",
    "cnt = 0\n",
    "for letter in 'abcde':\n",
    "    print('index={}, letter = {}'.format (cnt, letter))\n",
    "    cnt = cnt+1\n",
    "\n",
    "for i,letter in enumerate('abcde'):\n",
    "    print ('index={}, letter = {}'.format(i,letter))"
   ]
  },
  {
   "cell_type": "code",
   "execution_count": 59,
   "metadata": {},
   "outputs": [
    {
     "name": "stdout",
     "output_type": "stream",
     "text": [
      "[(1, 'ads'), (3, 's'), (4, 213), (5, 4), ('2', 4)]\n"
     ]
    }
   ],
   "source": [
    "list_1 = [1,3,4,5,'2']\n",
    "list_2 = ['ads','s',213,4,4]\n",
    "\n",
    "t = list((zip(list_1, list_2)))\n",
    "print(t)"
   ]
  },
  {
   "cell_type": "code",
   "execution_count": 61,
   "metadata": {},
   "outputs": [
    {
     "data": {
      "text/plain": [
       "False"
      ]
     },
     "execution_count": 61,
     "metadata": {},
     "output_type": "execute_result"
    }
   ],
   "source": [
    "'x' in [1,232,2]"
   ]
  },
  {
   "cell_type": "code",
   "execution_count": 62,
   "metadata": {},
   "outputs": [
    {
     "data": {
      "text/plain": [
       "13"
      ]
     },
     "execution_count": 62,
     "metadata": {},
     "output_type": "execute_result"
    }
   ],
   "source": [
    "min(13,223,232)"
   ]
  },
  {
   "cell_type": "code",
   "execution_count": 63,
   "metadata": {},
   "outputs": [
    {
     "data": {
      "text/plain": [
       "5"
      ]
     },
     "execution_count": 63,
     "metadata": {},
     "output_type": "execute_result"
    }
   ],
   "source": [
    "max([1,4,5,2])"
   ]
  },
  {
   "cell_type": "code",
   "execution_count": 64,
   "metadata": {},
   "outputs": [
    {
     "ename": "NameError",
     "evalue": "name 'randint' is not defined",
     "output_type": "error",
     "traceback": [
      "\u001b[0;31m---------------------------------------------------------------------------\u001b[0m",
      "\u001b[0;31mNameError\u001b[0m                                 Traceback (most recent call last)",
      "\u001b[0;32m<ipython-input-64-cc503331c17b>\u001b[0m in \u001b[0;36m<module>\u001b[0;34m\u001b[0m\n\u001b[1;32m      1\u001b[0m \u001b[0ml1\u001b[0m \u001b[0;34m=\u001b[0m \u001b[0;34m[\u001b[0m\u001b[0;36m232\u001b[0m\u001b[0;34m,\u001b[0m\u001b[0;36m3223\u001b[0m\u001b[0;34m]\u001b[0m\u001b[0;34m\u001b[0m\u001b[0;34m\u001b[0m\u001b[0m\n\u001b[1;32m      2\u001b[0m \u001b[0ml2\u001b[0m\u001b[0;34m=\u001b[0m \u001b[0;34m[\u001b[0m\u001b[0;36m2341\u001b[0m\u001b[0;34m,\u001b[0m\u001b[0;36m21411\u001b[0m\u001b[0;34m]\u001b[0m\u001b[0;34m\u001b[0m\u001b[0;34m\u001b[0m\u001b[0m\n\u001b[0;32m----> 3\u001b[0;31m \u001b[0mrandint\u001b[0m\u001b[0;34m(\u001b[0m\u001b[0ml1\u001b[0m\u001b[0;34m,\u001b[0m\u001b[0ml2\u001b[0m\u001b[0;34m)\u001b[0m\u001b[0;34m\u001b[0m\u001b[0;34m\u001b[0m\u001b[0m\n\u001b[0m",
      "\u001b[0;31mNameError\u001b[0m: name 'randint' is not defined"
     ]
    }
   ],
   "source": [
    "l1 = [232,3223]\n",
    "l2= [2341,21411]\n",
    "randint(l1,l2)"
   ]
  },
  {
   "cell_type": "markdown",
   "metadata": {},
   "source": [
    "# List Comprehensions"
   ]
  },
  {
   "cell_type": "code",
   "execution_count": null,
   "metadata": {},
   "outputs": [],
   "source": [
    "l =(list(range(0,11)))\n",
    "\n",
    "l = [i**2  for i in range(0,11)]\n",
    "print (f'{l} -list created with comprehension')"
   ]
  },
  {
   "cell_type": "code",
   "execution_count": null,
   "metadata": {},
   "outputs": [],
   "source": [
    "#comprehension and conditions\n",
    "l = list(range(10))\n",
    "print(l)\n",
    "\n",
    "l2 = [x for x in range(10)]\n",
    "print(l2)\n",
    "\n",
    "l2 = [x for x in range(10) if x%2==0]\n",
    "print(l2)\n",
    "\n",
    "l2 = [x for x in [x for x in range(10) if x%2!=0 and x%3!=0] if (x-1)/3!=0]\n",
    "print(l2)"
   ]
  },
  {
   "cell_type": "code",
   "execution_count": null,
   "metadata": {},
   "outputs": [],
   "source": []
  }
 ],
 "metadata": {
  "kernelspec": {
   "display_name": "Python 3",
   "language": "python",
   "name": "python3"
  },
  "language_info": {
   "codemirror_mode": {
    "name": "ipython",
    "version": 3
   },
   "file_extension": ".py",
   "mimetype": "text/x-python",
   "name": "python",
   "nbconvert_exporter": "python",
   "pygments_lexer": "ipython3",
   "version": "3.7.1"
  }
 },
 "nbformat": 4,
 "nbformat_minor": 2
}
