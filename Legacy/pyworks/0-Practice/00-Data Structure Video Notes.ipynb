{
 "cells": [
  {
   "cell_type": "markdown",
   "metadata": {},
   "source": [
    "# Print fomatting with Strings"
   ]
  },
  {
   "cell_type": "code",
   "execution_count": 5,
   "metadata": {},
   "outputs": [
    {
     "name": "stdout",
     "output_type": "stream",
     "text": [
      "my result is 1231\n"
     ]
    }
   ],
   "source": [
    "print (\"my result is {}\".format(1231))"
   ]
  },
  {
   "cell_type": "code",
   "execution_count": 6,
   "metadata": {},
   "outputs": [
    {
     "name": "stdout",
     "output_type": "stream",
     "text": [
      "My city is los angeles\n"
     ]
    }
   ],
   "source": [
    "print(\"My {} is {}\".format(\"city\", \"los angeles\"))"
   ]
  },
  {
   "cell_type": "code",
   "execution_count": 8,
   "metadata": {},
   "outputs": [
    {
     "name": "stdout",
     "output_type": "stream",
     "text": [
      "My city is los angeles\n"
     ]
    }
   ],
   "source": [
    "print(\"My {a} is {b}\".format(a=\"city\", b=\"los angeles\"))\n"
   ]
  },
  {
   "cell_type": "code",
   "execution_count": 11,
   "metadata": {},
   "outputs": [
    {
     "name": "stdout",
     "output_type": "stream",
     "text": [
      "My city is city\n"
     ]
    }
   ],
   "source": [
    "print(\"My {0} is {0}\".format(\"city\",\"los angeles\"))\n"
   ]
  },
  {
   "cell_type": "code",
   "execution_count": 14,
   "metadata": {},
   "outputs": [
    {
     "name": "stdout",
     "output_type": "stream",
     "text": [
      "My city is los angeles\n"
     ]
    }
   ],
   "source": [
    "name = 'los angeles'\n",
    "print(f'My city is {name}')"
   ]
  },
  {
   "cell_type": "code",
   "execution_count": 15,
   "metadata": {},
   "outputs": [
    {
     "name": "stdout",
     "output_type": "stream",
     "text": [
      "age is 3 years old\n"
     ]
    }
   ],
   "source": [
    "age = 3\n",
    "print(f'age is {age} years old')"
   ]
  },
  {
   "cell_type": "markdown",
   "metadata": {},
   "source": [
    "# LISTS"
   ]
  },
  {
   "cell_type": "code",
   "execution_count": 17,
   "metadata": {},
   "outputs": [],
   "source": [
    "#flexible with data types\n",
    "my_list = [1,'hello', 12.0]"
   ]
  },
  {
   "cell_type": "code",
   "execution_count": 19,
   "metadata": {},
   "outputs": [
    {
     "name": "stdout",
     "output_type": "stream",
     "text": [
      "[1, 'hello', 12.0]\n"
     ]
    }
   ],
   "source": [
    "print(my_list)"
   ]
  },
  {
   "cell_type": "code",
   "execution_count": 21,
   "metadata": {},
   "outputs": [
    {
     "name": "stdout",
     "output_type": "stream",
     "text": [
      "index 1st position 1\n"
     ]
    }
   ],
   "source": [
    "#indexing and slicing\n",
    "print('index 1st position {}'.format(my_list[0]))"
   ]
  },
  {
   "cell_type": "code",
   "execution_count": 23,
   "metadata": {},
   "outputs": [
    {
     "data": {
      "text/plain": [
       "[1, 'hello', 12.0, 1, 2, 4, 5, 2]"
      ]
     },
     "execution_count": 23,
     "metadata": {},
     "output_type": "execute_result"
    }
   ],
   "source": [
    "#concat string\n",
    "my_list2 = [1,2,4,5,2]\n",
    "my_list + my_list2"
   ]
  },
  {
   "cell_type": "code",
   "execution_count": 37,
   "metadata": {},
   "outputs": [
    {
     "name": "stdout",
     "output_type": "stream",
     "text": [
      "[1, 'hello', 12.0] [1, 2, 4, 5, 2]\n",
      "[1, 'hello', 12.0, 1, 2, 4, 5, 2]\n"
     ]
    }
   ],
   "source": [
    "print(my_list, my_list2)\n",
    "new_list = my_list +my_list2\n",
    "print(new_list)"
   ]
  },
  {
   "cell_type": "code",
   "execution_count": 38,
   "metadata": {},
   "outputs": [
    {
     "name": "stdout",
     "output_type": "stream",
     "text": [
      "['replace with ALLCAPS', 'hello', 12.0, 1, 2, 4, 5, 2]\n"
     ]
    }
   ],
   "source": [
    "#lists are mutable \n",
    "\n",
    "new_list[0]= 'replace with ALLCAPS'\n",
    "print(new_list)"
   ]
  },
  {
   "cell_type": "code",
   "execution_count": 62,
   "metadata": {},
   "outputs": [
    {
     "name": "stdout",
     "output_type": "stream",
     "text": [
      "[5, 1, 3, 5, 1, 7, '6']\n",
      "[5, 1, 3, 5, 1, 7]\n",
      "my sorted list [1, 1, 3, 5, 5, 7]\n",
      "my reverse list [7, 5, 5, 3, 1, 1]\n",
      "[7, 2, 5, 5, 3, 1, 1]\n"
     ]
    }
   ],
   "source": [
    "#list methods\n",
    "new_list = [5,1,3,5,1,7]\n",
    "    #append\n",
    "new_list.append('6')\n",
    "print(new_list)\n",
    "    #pop\n",
    "new_list.pop()\n",
    "print(new_list)\n",
    "    #sort is inplace\n",
    "(new_list.sort())\n",
    "print('my sorted list {}'.format(new_list))\n",
    "    #reverse inplace\n",
    "new_list.reverse()\n",
    "print('my reverse list {}'.format(new_list))\n",
    "    #insert\n",
    "(new_list.insert(1,2))\n",
    "print(new_list)"
   ]
  },
  {
   "cell_type": "markdown",
   "metadata": {},
   "source": [
    "# DICTIONARIES"
   ]
  },
  {
   "cell_type": "markdown",
   "metadata": {},
   "source": [
    "#dict vs list \n",
    "Indexes exist for list not for dictonaries\n",
    "sorting in list "
   ]
  },
  {
   "cell_type": "code",
   "execution_count": 80,
   "metadata": {},
   "outputs": [
    {
     "name": "stdout",
     "output_type": "stream",
     "text": [
      "{'product1': 'apple', 'product2': 'hbo', '1st_num': 1, 'nums': [1, 24, 5, 2], 'my_list': ['hello', 'World', '123']}\n",
      "apple\n",
      "1\n",
      "WORLD\n"
     ]
    }
   ],
   "source": [
    "my_dict = {'product1':'apple', 'product2':'hbo', '1st_num':1, 'nums':[1,24,5,2], 'my_list':['hello', 'World','123']}\n",
    "print(my_dict)\n",
    "print(my_dict['product1'])\n",
    "print(my_dict['nums'][0])\n",
    "print(my_dict['my_list'][1].upper())"
   ]
  },
  {
   "cell_type": "code",
   "execution_count": 86,
   "metadata": {},
   "outputs": [
    {
     "name": "stdout",
     "output_type": "stream",
     "text": [
      "{'product1': 'apple', 'product2': 'hbo', '1st_num': 1, 'nums': [1, 24, 5, 2], 'my_list': ['hello', 'World', '123'], 'new_key': 'this is new key'}\n"
     ]
    }
   ],
   "source": [
    "#add value to list\n",
    "my_dict['new_key']='this is new key'\n",
    "print(my_dict)"
   ]
  },
  {
   "cell_type": "code",
   "execution_count": 124,
   "metadata": {},
   "outputs": [
    {
     "name": "stdout",
     "output_type": "stream",
     "text": [
      "{'iphone': 2007, 'iphone 3G': 2008, 'iphone 3GS': 2009, 'iphone 4': 2010, 'iphone 4S': 2011, 'iphone 5': 2012}\n"
     ]
    }
   ],
   "source": [
    "released = {\n",
    "\t\t\"iphone\" : 2007,\n",
    "\t\t\"iphone 3G\" : 2008,\n",
    "\t\t\"iphone 3GS\" : 2009,\n",
    "\t\t\"iphone 4\" : 2010,\n",
    "\t\t\"iphone 4S\" : 2011,\n",
    "\t\t\"iphone 5\" : 2012\n",
    "\t}\n",
    "print (released)"
   ]
  },
  {
   "cell_type": "code",
   "execution_count": 126,
   "metadata": {},
   "outputs": [
    {
     "name": "stdout",
     "output_type": "stream",
     "text": [
      "{'iphone': 2007, 'iphone 3G': 2008, 'iphone 3GS': 2009, 'iphone 4': 2010, 'iphone 4S': 2011, 'iphone 5': 2012, 'iphoneX': 2017}\n",
      "{'iphone': 2007, 'iphone 3G': 2008, 'iphone 3GS': 2009, 'iphone 4': 2010, 'iphone 4S': 2011, 'iphone 5': 2012, 'iphoneX': 2017}\n"
     ]
    }
   ],
   "source": [
    "released[\"iphoneX\"]=2017\n",
    "print(released)\n",
    "released[\"iphoneX\"]=2017\n",
    "#delete a key \n",
    "#del released[\"iphonex\"]\n",
    "print(released)"
   ]
  },
  {
   "cell_type": "code",
   "execution_count": 127,
   "metadata": {},
   "outputs": [
    {
     "name": "stdout",
     "output_type": "stream",
     "text": [
      "True\n",
      "iphone 2007\n",
      "iphone 3G 2008\n",
      "iphone 3GS 2009\n",
      "iphone 4 2010\n",
      "iphone 4S 2011\n",
      "iphone 5 2012\n",
      "iphoneX 2017\n",
      "---items only\n",
      "iphone\n",
      "iphone 3G\n",
      "iphone 3GS\n",
      "iphone 4\n",
      "iphone 4S\n",
      "iphone 5\n",
      "iphoneX\n",
      "--values\n",
      "2007\n",
      "2008\n",
      "2009\n",
      "2010\n",
      "2011\n",
      "2012\n",
      "2017\n"
     ]
    }
   ],
   "source": [
    "len(released)\n",
    "print('iphone' in released)\n",
    "#loop \n",
    "for item,value in released.items():\n",
    "    print (item,value)\n",
    "\n",
    "print('---items only')\n",
    "for key in released.keys():\n",
    "    print(key)\n",
    "    \n",
    "print('--values')\n",
    "for values in released.values():\n",
    "    print(values)"
   ]
  },
  {
   "cell_type": "code",
   "execution_count": 128,
   "metadata": {},
   "outputs": [
    {
     "name": "stdout",
     "output_type": "stream",
     "text": [
      "iphone 2007\n",
      "iphoneX 2017\n",
      "iphone 4 2010\n",
      "iphone 5 2012\n",
      "iphone 3G 2008\n",
      "iphone 4S 2011\n",
      "iphone 3GS 2009\n"
     ]
    }
   ],
   "source": [
    "for phones in sorted(released, key=len):\n",
    "    print (phones, released[phones])"
   ]
  },
  {
   "cell_type": "code",
   "execution_count": 129,
   "metadata": {},
   "outputs": [
    {
     "name": "stdout",
     "output_type": "stream",
     "text": [
      "{'iphone': 1, 'iphone 3G': 1, 'iphone 3GS': 1, 'iphone 4': 1, 'iphone 4S': 1, 'iphone 5': 1, 'iphoneX': 1}\n"
     ]
    }
   ],
   "source": [
    "#counting \n",
    "count={}\n",
    "for element in released:\n",
    "    count[element]=count.get(element,0)+1\n",
    "print(count)"
   ]
  },
  {
   "cell_type": "markdown",
   "metadata": {},
   "source": [
    "# tuples\n",
    "immutable (1,23,4)"
   ]
  },
  {
   "cell_type": "code",
   "execution_count": 139,
   "metadata": {},
   "outputs": [],
   "source": [
    "t=(1,2,4,2)"
   ]
  },
  {
   "cell_type": "code",
   "execution_count": 141,
   "metadata": {},
   "outputs": [
    {
     "name": "stdout",
     "output_type": "stream",
     "text": [
      "(1, 2, 4, 2)\n",
      "[7, 2, 5, 5, 3, 1, 1]\n",
      "<class 'tuple'>\n",
      "<class 'list'>\n"
     ]
    }
   ],
   "source": [
    "print(t)\n",
    "print(new_list)\n",
    "print(type(t))\n",
    "print(type(new_list))"
   ]
  },
  {
   "cell_type": "code",
   "execution_count": 140,
   "metadata": {},
   "outputs": [
    {
     "name": "stdout",
     "output_type": "stream",
     "text": [
      "2\n",
      "1\n"
     ]
    }
   ],
   "source": [
    "print(t.count(2))\n",
    "print(t.index(2))"
   ]
  },
  {
   "cell_type": "markdown",
   "metadata": {},
   "source": [
    "# SETs\n",
    "unique objects ; uordered collection"
   ]
  },
  {
   "cell_type": "code",
   "execution_count": 151,
   "metadata": {},
   "outputs": [
    {
     "name": "stdout",
     "output_type": "stream",
     "text": [
      "{1}\n",
      "{1, 2}\n",
      "[1, 2]\n"
     ]
    }
   ],
   "source": [
    "myset =set()\n",
    "myset.add(1)\n",
    "print(myset)\n",
    "myset.add(2)\n",
    "print(myset)\n",
    "l = list(myset)\n",
    "print(l)\n"
   ]
  },
  {
   "cell_type": "markdown",
   "metadata": {},
   "source": [
    "# Files IO \n",
    "#\"r\" - Read - Default value. Opens a file for reading, error if the file does not exist\n",
    "#\n",
    "#\"a\" - Append - Opens a file for appending, creates the file if it does not exist\n",
    "#\n",
    "#\"w\" - Write - Opens a file for writing, creates the file if it does not exist\n",
    "#\n",
    "#\"x\" - Create - Creates the specified file, returns an error if the file exists\n",
    "\n",
    "os.remove for removing file"
   ]
  },
  {
   "cell_type": "code",
   "execution_count": 67,
   "metadata": {},
   "outputs": [],
   "source": [
    "import os \n",
    "(os.getcwd())\n",
    "\n",
    "#create file \n",
    "file_name = os.getcwd() + '//file_io.txt'\n",
    "\n",
    "file_c = open(file_name ,'w')\n",
    "\n",
    "file_r = open(file_name,'r')"
   ]
  },
  {
   "cell_type": "code",
   "execution_count": 124,
   "metadata": {},
   "outputs": [
    {
     "data": {
      "text/plain": [
       "46"
      ]
     },
     "execution_count": 124,
     "metadata": {},
     "output_type": "execute_result"
    }
   ],
   "source": [
    "#returns file by string\n",
    "file_w = open(file_name, 'w')\n",
    "#file_w.write('')\n",
    "file_w.write('FirstLine\\nLin2\\nThis is Line3\\nEnd of Page Line4')"
   ]
  },
  {
   "cell_type": "code",
   "execution_count": 125,
   "metadata": {},
   "outputs": [
    {
     "data": {
      "text/plain": [
       "'FirstLine\\nLin2\\nThis is Line3\\nEnd of Page Line4'"
      ]
     },
     "execution_count": 125,
     "metadata": {},
     "output_type": "execute_result"
    }
   ],
   "source": [
    "file_r = open(file_name, 'r')\n",
    "(file_r.read())"
   ]
  },
  {
   "cell_type": "code",
   "execution_count": 119,
   "metadata": {},
   "outputs": [
    {
     "data": {
      "text/plain": [
       "0"
      ]
     },
     "execution_count": 119,
     "metadata": {},
     "output_type": "execute_result"
    }
   ],
   "source": [
    "file_r.seek(0)"
   ]
  },
  {
   "cell_type": "code",
   "execution_count": 120,
   "metadata": {},
   "outputs": [
    {
     "data": {
      "text/plain": [
       "[]"
      ]
     },
     "execution_count": 120,
     "metadata": {},
     "output_type": "execute_result"
    }
   ],
   "source": [
    "#read all lines \n",
    "file_r.readlines()"
   ]
  },
  {
   "cell_type": "code",
   "execution_count": 96,
   "metadata": {},
   "outputs": [
    {
     "data": {
      "text/plain": [
       "0"
      ]
     },
     "execution_count": 96,
     "metadata": {},
     "output_type": "execute_result"
    }
   ],
   "source": [
    "#reset pointer to zero \n",
    "file_r.seek(0)"
   ]
  },
  {
   "cell_type": "code",
   "execution_count": 112,
   "metadata": {},
   "outputs": [
    {
     "ename": "ValueError",
     "evalue": "I/O operation on closed file.",
     "output_type": "error",
     "traceback": [
      "\u001b[0;31m---------------------------------------------------------------------------\u001b[0m",
      "\u001b[0;31mValueError\u001b[0m                                Traceback (most recent call last)",
      "\u001b[0;32m<ipython-input-112-9f9d994da3d2>\u001b[0m in \u001b[0;36m<module>\u001b[0;34m\u001b[0m\n\u001b[0;32m----> 1\u001b[0;31m \u001b[0;32mfor\u001b[0m \u001b[0mline\u001b[0m \u001b[0;32min\u001b[0m \u001b[0mfile_r\u001b[0m\u001b[0;34m.\u001b[0m\u001b[0mreadlines\u001b[0m\u001b[0;34m(\u001b[0m\u001b[0;34m)\u001b[0m\u001b[0;34m:\u001b[0m\u001b[0;34m\u001b[0m\u001b[0;34m\u001b[0m\u001b[0m\n\u001b[0m\u001b[1;32m      2\u001b[0m     \u001b[0mprint\u001b[0m \u001b[0;34m(\u001b[0m\u001b[0mline\u001b[0m\u001b[0;34m)\u001b[0m\u001b[0;34m\u001b[0m\u001b[0;34m\u001b[0m\u001b[0m\n",
      "\u001b[0;31mValueError\u001b[0m: I/O operation on closed file."
     ]
    }
   ],
   "source": [
    "for line in file_r.readlines():\n",
    "    print (line)"
   ]
  },
  {
   "cell_type": "code",
   "execution_count": 121,
   "metadata": {},
   "outputs": [],
   "source": [
    "#close file\n",
    "file_r.close()"
   ]
  },
  {
   "cell_type": "code",
   "execution_count": 122,
   "metadata": {},
   "outputs": [
    {
     "data": {
      "text/plain": [
       "''"
      ]
     },
     "execution_count": 122,
     "metadata": {},
     "output_type": "execute_result"
    }
   ],
   "source": [
    "# with syntax files \n",
    "with open(file_name) as my_file:\n",
    "    contents = my_file.read()\n",
    "contents"
   ]
  },
  {
   "cell_type": "code",
   "execution_count": 126,
   "metadata": {},
   "outputs": [
    {
     "name": "stdout",
     "output_type": "stream",
     "text": [
      "FirstLine\n",
      "Lin2\n",
      "This is Line3\n",
      "End of Page Line4\n"
     ]
    }
   ],
   "source": [
    "with open(file_name,mode = 'r') as f:\n",
    "    print(f.read())"
   ]
  },
  {
   "cell_type": "code",
   "execution_count": 127,
   "metadata": {},
   "outputs": [],
   "source": [
    "with open(file_name, mode= 'a') as f:\n",
    "    f.write('\\nLine 5 added to 5')"
   ]
  },
  {
   "cell_type": "code",
   "execution_count": 128,
   "metadata": {},
   "outputs": [
    {
     "name": "stdout",
     "output_type": "stream",
     "text": [
      "FirstLine\n",
      "Lin2\n",
      "This is Line3\n",
      "End of Page Line4\n",
      "Line 5 added to 5\n"
     ]
    }
   ],
   "source": [
    "with open(file_name,mode = 'r') as f:\n",
    "    print(f.read())"
   ]
  },
  {
   "cell_type": "code",
   "execution_count": 130,
   "metadata": {},
   "outputs": [],
   "source": [
    "with open('sdwedfsasd.txt','w') as f:\n",
    "    f.write('I created this file')"
   ]
  },
  {
   "cell_type": "code",
   "execution_count": 131,
   "metadata": {},
   "outputs": [
    {
     "name": "stdout",
     "output_type": "stream",
     "text": [
      "I created this file\n"
     ]
    }
   ],
   "source": [
    "with open('sdwedfsasd.txt','r')as f:\n",
    "    print(f.read())"
   ]
  },
  {
   "cell_type": "code",
   "execution_count": null,
   "metadata": {},
   "outputs": [],
   "source": []
  }
 ],
 "metadata": {
  "kernelspec": {
   "display_name": "Python 3",
   "language": "python",
   "name": "python3"
  },
  "language_info": {
   "codemirror_mode": {
    "name": "ipython",
    "version": 3
   },
   "file_extension": ".py",
   "mimetype": "text/x-python",
   "name": "python",
   "nbconvert_exporter": "python",
   "pygments_lexer": "ipython3",
   "version": "3.7.1"
  }
 },
 "nbformat": 4,
 "nbformat_minor": 2
}
