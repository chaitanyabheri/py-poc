{
 "cells": [
  {
   "cell_type": "markdown",
   "metadata": {},
   "source": [
    "# None and Dictionaries"
   ]
  },
  {
   "cell_type": "code",
   "execution_count": 1,
   "metadata": {},
   "outputs": [],
   "source": [
    "None"
   ]
  },
  {
   "cell_type": "code",
   "execution_count": 2,
   "metadata": {},
   "outputs": [
    {
     "data": {
      "text/plain": [
       "True"
      ]
     },
     "execution_count": 2,
     "metadata": {},
     "output_type": "execute_result"
    }
   ],
   "source": [
    "True"
   ]
  },
  {
   "cell_type": "code",
   "execution_count": 5,
   "metadata": {},
   "outputs": [],
   "source": [
    "my_data = ''\n",
    "if my_data:print('Hello')"
   ]
  },
  {
   "cell_type": "code",
   "execution_count": 7,
   "metadata": {},
   "outputs": [],
   "source": [
    "my_data = False\n",
    "if my_data: print('Got data')"
   ]
  },
  {
   "cell_type": "code",
   "execution_count": 8,
   "metadata": {},
   "outputs": [
    {
     "name": "stdout",
     "output_type": "stream",
     "text": [
      "Got data\n"
     ]
    }
   ],
   "source": [
    "my_data = True\n",
    "if my_data: print('Got data')"
   ]
  },
  {
   "cell_type": "code",
   "execution_count": 9,
   "metadata": {},
   "outputs": [
    {
     "name": "stdout",
     "output_type": "stream",
     "text": [
      "Got data\n"
     ]
    }
   ],
   "source": [
    "my_data = 'Yes'\n",
    "if my_data: print('Got data')"
   ]
  },
  {
   "cell_type": "code",
   "execution_count": 10,
   "metadata": {},
   "outputs": [
    {
     "data": {
      "text/plain": [
       "{}"
      ]
     },
     "execution_count": 10,
     "metadata": {},
     "output_type": "execute_result"
    }
   ],
   "source": [
    "d_age = {}\n",
    "d_age"
   ]
  },
  {
   "cell_type": "code",
   "execution_count": 1,
   "metadata": {},
   "outputs": [
    {
     "name": "stdout",
     "output_type": "stream",
     "text": [
      "{'Chaitu': 33, 'Bharu': 25, 'Sri': 2}\n",
      "dict_items([('Chaitu', 33), ('Bharu', 25), ('Sri', 2)])\n",
      "dict_values([33, 25, 2])\n",
      "dict_keys(['Chaitu', 'Bharu', 'Sri'])\n",
      "33\n",
      "True\n"
     ]
    }
   ],
   "source": [
    "d_age= {'Chaitu':33, 'Bharu':25, 'Sri':2}\n",
    "print(d_age) #- print dic\n",
    "print(d_age.items())  # print all items\n",
    "print(d_age.values()) # print values\n",
    "print(d_age.keys()) # print keys\n",
    "print(d_age['Chaitu'])\n",
    "if 'Chaitu' in d_age:\n",
    "    print (True)\n"
   ]
  },
  {
   "cell_type": "code",
   "execution_count": 9,
   "metadata": {},
   "outputs": [
    {
     "name": "stdout",
     "output_type": "stream",
     "text": [
      "None\n"
     ]
    }
   ],
   "source": [
    "print(d_age.get('Hello'))"
   ]
  },
  {
   "cell_type": "code",
   "execution_count": 15,
   "metadata": {},
   "outputs": [],
   "source": [
    "d_age['hello']=1231"
   ]
  },
  {
   "cell_type": "code",
   "execution_count": 16,
   "metadata": {},
   "outputs": [
    {
     "data": {
      "text/plain": [
       "1231"
      ]
     },
     "execution_count": 16,
     "metadata": {},
     "output_type": "execute_result"
    }
   ],
   "source": [
    "d_age['hello']"
   ]
  },
  {
   "cell_type": "code",
   "execution_count": 17,
   "metadata": {},
   "outputs": [
    {
     "data": {
      "text/plain": [
       "1231"
      ]
     },
     "execution_count": 17,
     "metadata": {},
     "output_type": "execute_result"
    }
   ],
   "source": [
    "d_age.get('hello')"
   ]
  },
  {
   "cell_type": "code",
   "execution_count": 19,
   "metadata": {},
   "outputs": [
    {
     "data": {
      "text/plain": [
       "1231"
      ]
     },
     "execution_count": 19,
     "metadata": {},
     "output_type": "execute_result"
    }
   ],
   "source": [
    "d_age.pop('hello')"
   ]
  },
  {
   "cell_type": "code",
   "execution_count": 20,
   "metadata": {},
   "outputs": [
    {
     "data": {
      "text/plain": [
       "{'Chaitu': 33, 'Bharu': 25, 'Sri': 2}"
      ]
     },
     "execution_count": 20,
     "metadata": {},
     "output_type": "execute_result"
    }
   ],
   "source": [
    "d_age"
   ]
  },
  {
   "cell_type": "code",
   "execution_count": null,
   "metadata": {},
   "outputs": [],
   "source": [
    "'Chaitu' in d_age"
   ]
  },
  {
   "cell_type": "code",
   "execution_count": 26,
   "metadata": {},
   "outputs": [
    {
     "data": {
      "text/plain": [
       "False"
      ]
     },
     "execution_count": 26,
     "metadata": {},
     "output_type": "execute_result"
    }
   ],
   "source": [
    "1 in d_age"
   ]
  },
  {
   "cell_type": "code",
   "execution_count": 28,
   "metadata": {},
   "outputs": [
    {
     "name": "stdout",
     "output_type": "stream",
     "text": [
      "Chaitu\n",
      "Bharu\n",
      "Sri\n"
     ]
    }
   ],
   "source": [
    "for key in d_age.keys():\n",
    "    print(key)"
   ]
  },
  {
   "cell_type": "code",
   "execution_count": 29,
   "metadata": {},
   "outputs": [
    {
     "name": "stdout",
     "output_type": "stream",
     "text": [
      "33\n",
      "25\n",
      "2\n"
     ]
    }
   ],
   "source": [
    "for key in d_age.values():\n",
    "    print(key)"
   ]
  },
  {
   "cell_type": "code",
   "execution_count": 30,
   "metadata": {},
   "outputs": [
    {
     "name": "stdout",
     "output_type": "stream",
     "text": [
      "Chaitu 33\n",
      "Bharu 25\n",
      "Sri 2\n"
     ]
    }
   ],
   "source": [
    "for key, values in d_age.items():\n",
    "    print(key, values)"
   ]
  },
  {
   "cell_type": "code",
   "execution_count": 31,
   "metadata": {},
   "outputs": [],
   "source": [
    "del d_age['Chaitu']"
   ]
  },
  {
   "cell_type": "code",
   "execution_count": 32,
   "metadata": {},
   "outputs": [
    {
     "data": {
      "text/plain": [
       "{'Bharu': 25, 'Sri': 2}"
      ]
     },
     "execution_count": 32,
     "metadata": {},
     "output_type": "execute_result"
    }
   ],
   "source": [
    "d_age"
   ]
  },
  {
   "cell_type": "code",
   "execution_count": 33,
   "metadata": {},
   "outputs": [],
   "source": [
    "d_age['Chaitu']=33"
   ]
  },
  {
   "cell_type": "code",
   "execution_count": 34,
   "metadata": {},
   "outputs": [
    {
     "data": {
      "text/plain": [
       "0"
      ]
     },
     "execution_count": 34,
     "metadata": {},
     "output_type": "execute_result"
    }
   ],
   "source": [
    "d_age.pop('Robin',0)"
   ]
  },
  {
   "cell_type": "code",
   "execution_count": 49,
   "metadata": {},
   "outputs": [
    {
     "data": {
      "text/plain": [
       "0"
      ]
     },
     "execution_count": 49,
     "metadata": {},
     "output_type": "execute_result"
    }
   ],
   "source": [
    "# excercise \n",
    "\n",
    "def to_val(letter):\n",
    "    d = {'i':1, 'v':5,'x':10, 'l':50, 'c':100, 'm':1000}\n",
    "    if letter == 'i':return d['i']\n",
    "    elif letter =='v':return d['v']\n",
    "    elif letter =='x':return d['x']\n",
    "    elif letter == 'l':return d['l']\n",
    "    elif letter =='c':return d['c']\n",
    "    elif letter == 'm':return d['m']\n",
    "    return 0\n",
    "\n",
    "to_val('1')"
   ]
  },
  {
   "cell_type": "markdown",
   "metadata": {},
   "source": [
    "# Iterations"
   ]
  },
  {
   "cell_type": "code",
   "execution_count": 57,
   "metadata": {},
   "outputs": [
    {
     "data": {
      "text/plain": [
       "b''"
      ]
     },
     "execution_count": 57,
     "metadata": {},
     "output_type": "execute_result"
    }
   ],
   "source": [
    "b= bytes()\n",
    "b"
   ]
  },
  {
   "cell_type": "code",
   "execution_count": 53,
   "metadata": {},
   "outputs": [
    {
     "data": {
      "text/plain": [
       "b'Hello how r u'"
      ]
     },
     "execution_count": 53,
     "metadata": {},
     "output_type": "execute_result"
    }
   ],
   "source": [
    "s = b'Hello how r u'\n",
    "s"
   ]
  },
  {
   "cell_type": "code",
   "execution_count": 55,
   "metadata": {},
   "outputs": [
    {
     "name": "stdout",
     "output_type": "stream",
     "text": [
      "72\n",
      "101\n",
      "108\n",
      "108\n",
      "111\n",
      "32\n",
      "104\n",
      "111\n",
      "119\n",
      "32\n",
      "114\n",
      "32\n",
      "117\n"
     ]
    }
   ],
   "source": [
    "for c in s:print(c)"
   ]
  },
  {
   "cell_type": "code",
   "execution_count": 58,
   "metadata": {},
   "outputs": [
    {
     "data": {
      "text/plain": [
       "bytearray(b'')"
      ]
     },
     "execution_count": 58,
     "metadata": {},
     "output_type": "execute_result"
    }
   ],
   "source": [
    "data = bytearray()\n",
    "data"
   ]
  },
  {
   "cell_type": "code",
   "execution_count": 59,
   "metadata": {},
   "outputs": [],
   "source": [
    "data+=s"
   ]
  },
  {
   "cell_type": "code",
   "execution_count": 60,
   "metadata": {},
   "outputs": [
    {
     "data": {
      "text/plain": [
       "72"
      ]
     },
     "execution_count": 60,
     "metadata": {},
     "output_type": "execute_result"
    }
   ],
   "source": [
    "data[0]"
   ]
  },
  {
   "cell_type": "code",
   "execution_count": 63,
   "metadata": {},
   "outputs": [
    {
     "data": {
      "text/plain": [
       "bytearray(b'\\xffello how r u')"
      ]
     },
     "execution_count": 63,
     "metadata": {},
     "output_type": "execute_result"
    }
   ],
   "source": [
    "data[0]=255\n",
    "data"
   ]
  },
  {
   "cell_type": "code",
   "execution_count": 79,
   "metadata": {},
   "outputs": [
    {
     "data": {
      "text/plain": [
       "(['Cat', 'World'], 'Apple', 'Banana', 'Canada', 'Dallas')"
      ]
     },
     "execution_count": 79,
     "metadata": {},
     "output_type": "execute_result"
    }
   ],
   "source": [
    "t= (['Hello','World'],'Apple', 'Banana', 'Canada', 'Dallas')\n",
    "t[0][0]='Cat'\n",
    "t"
   ]
  },
  {
   "cell_type": "code",
   "execution_count": 71,
   "metadata": {},
   "outputs": [
    {
     "data": {
      "text/plain": [
       "('Apple', 'Banana', 'Canada', 'Dallas')"
      ]
     },
     "execution_count": 71,
     "metadata": {},
     "output_type": "execute_result"
    }
   ],
   "source": [
    "tuple(list(fruits))"
   ]
  },
  {
   "cell_type": "code",
   "execution_count": 102,
   "metadata": {},
   "outputs": [
    {
     "data": {
      "text/plain": [
       "{'apple', 'boost', 'cat', 'e', 'fish', 'gas'}"
      ]
     },
     "execution_count": 102,
     "metadata": {},
     "output_type": "execute_result"
    }
   ],
   "source": [
    "ls = ['apple','cat', 'boost','gas','fish']\n",
    "s= set(ls)\n",
    "s.add('e')\n",
    "s.add('e')\n",
    "st ='Apple cat boose gas fish'\n",
    "s"
   ]
  },
  {
   "cell_type": "code",
   "execution_count": 115,
   "metadata": {},
   "outputs": [
    {
     "name": "stdout",
     "output_type": "stream",
     "text": [
      "apple\n",
      "cat\n",
      "boost\n",
      "gas\n",
      "fish\n",
      "---\n",
      "boost\n",
      "fish\n",
      "gas\n",
      "cat\n",
      "e\n",
      "apple\n",
      "----\n",
      "k1\n",
      "k2\n",
      "----\n",
      "('k1', 'v1')\n",
      "('k2', {'k3': 5})\n",
      "---\n",
      "k1 v1\n",
      "k2 {'k3': 5}\n",
      "----\n",
      "k1\n",
      "k2\n",
      "-----\n",
      "v1\n",
      "{'k3': 5}\n"
     ]
    }
   ],
   "source": [
    "d ={'k1':'v1','k2':{'k3':5}}\n",
    "d\n",
    "for i in ls:print(i)\n",
    "print('---')\n",
    "for i in s:print(i)\n",
    "print('----')\n",
    "for i in d:print(i)\n",
    "print('----')\n",
    "for i in d.items():print(i)\n",
    "print('---')\n",
    "for k,v in d.items():print(k,v)\n",
    "print('----')\n",
    "for k in d.keys():print(k)\n",
    "print('-----')\n",
    "for v in d.values():print(v)\n"
   ]
  },
  {
   "cell_type": "code",
   "execution_count": 125,
   "metadata": {},
   "outputs": [
    {
     "name": "stdout",
     "output_type": "stream",
     "text": [
      "('Apple', 'Orange', 'Lemon', 'Tomato')\n",
      "{'Apple': 1, 'Orange': 12, 'Lemon': 2, 'Tomato': 12}\n",
      "['Apple', 'Orange', 'Lemon', 'Tomato']\n"
     ]
    }
   ],
   "source": [
    "s_fruits = ('Apple', 'Orange','Lemon','Tomato')\n",
    "d_fruits = {'Apple':1, 'Orange':12, 'Lemon':2, 'Tomato':12}\n",
    "l_fruits= ['Apple','Orange','Lemon','Tomato']\n",
    "\n",
    "print(s_fruits)\n",
    "print(d_fruits)\n",
    "print(l_fruits)"
   ]
  },
  {
   "cell_type": "code",
   "execution_count": 126,
   "metadata": {},
   "outputs": [
    {
     "name": "stdout",
     "output_type": "stream",
     "text": [
      "Apple\n",
      "Orange\n",
      "Lemon\n",
      "Tomato\n"
     ]
    }
   ],
   "source": [
    "for i in s_fruits:print(i)"
   ]
  },
  {
   "cell_type": "code",
   "execution_count": 127,
   "metadata": {},
   "outputs": [
    {
     "name": "stdout",
     "output_type": "stream",
     "text": [
      "(0, 'Apple')\n",
      "(1, 'Orange')\n",
      "(2, 'Lemon')\n",
      "(3, 'Tomato')\n"
     ]
    }
   ],
   "source": [
    "for i in enumerate(s_fruits):print(i)"
   ]
  },
  {
   "cell_type": "code",
   "execution_count": 134,
   "metadata": {},
   "outputs": [
    {
     "name": "stdout",
     "output_type": "stream",
     "text": [
      "(0, 'Apple')\n",
      "(1, 'Orange')\n",
      "(2, 'Lemon')\n",
      "(3, 'Tomato')\n"
     ]
    }
   ],
   "source": [
    "for i in enumerate(d_fruits.keys()):print(i)"
   ]
  },
  {
   "cell_type": "code",
   "execution_count": 136,
   "metadata": {},
   "outputs": [
    {
     "name": "stdout",
     "output_type": "stream",
     "text": [
      "Apple 1\n",
      "Orange 12\n",
      "Lemon 2\n",
      "Tomato 12\n"
     ]
    }
   ],
   "source": [
    "for (f,v) in zip(s_fruits, d_fruits.values()):print(f,v)"
   ]
  },
  {
   "cell_type": "code",
   "execution_count": 139,
   "metadata": {},
   "outputs": [
    {
     "ename": "AttributeError",
     "evalue": "'dict' object has no attribute 'index'",
     "traceback": [
      "\u001b[0;31m---------------------------------------------------------------------------\u001b[0m",
      "\u001b[0;31mAttributeError\u001b[0m                            Traceback (most recent call last)",
      "\u001b[0;32m<ipython-input-139-dc23ffb681f3>\u001b[0m in \u001b[0;36m<module>\u001b[0;34m\u001b[0m\n\u001b[0;32m----> 1\u001b[0;31m \u001b[0md_fruits\u001b[0m\u001b[0;34m.\u001b[0m\u001b[0mindex\u001b[0m\u001b[0;34m(\u001b[0m\u001b[0;34m'Apple'\u001b[0m\u001b[0;34m)\u001b[0m\u001b[0;34m\u001b[0m\u001b[0;34m\u001b[0m\u001b[0m\n\u001b[0m",
      "\u001b[0;31mAttributeError\u001b[0m: 'dict' object has no attribute 'index'"
     ],
     "output_type": "error"
    }
   ],
   "source": [
    "d_fruits.index('Apple')"
   ]
  },
  {
   "cell_type": "code",
   "execution_count": 149,
   "metadata": {},
   "outputs": [],
   "source": [
    "prime_list = [1,2,3,5,7,11,13,17,19]\n",
    "odd_list = [3,5,7,9]"
   ]
  },
  {
   "cell_type": "code",
   "execution_count": 150,
   "metadata": {},
   "outputs": [
    {
     "data": {
      "text/plain": [
       "[3, 5, 7]"
      ]
     },
     "execution_count": 150,
     "metadata": {},
     "output_type": "execute_result"
    }
   ],
   "source": [
    "list(set(prime_list) & set(odd_list))"
   ]
  },
  {
   "cell_type": "code",
   "execution_count": 156,
   "metadata": {},
   "outputs": [
    {
     "data": {
      "text/plain": [
       "[3, 5, 7]"
      ]
     },
     "execution_count": 156,
     "metadata": {},
     "output_type": "execute_result"
    }
   ],
   "source": [
    "[val for val in prime_list if val in odd_list]"
   ]
  },
  {
   "cell_type": "code",
   "execution_count": 164,
   "metadata": {},
   "outputs": [
    {
     "name": "stdout",
     "output_type": "stream",
     "text": [
      "asa is not in\n"
     ]
    }
   ],
   "source": [
    "try:\n",
    "    int('asa')\n",
    "except:\n",
    "    print('asa is not in')"
   ]
  },
  {
   "cell_type": "markdown",
   "metadata": {},
   "source": [
    "# Files "
   ]
  },
  {
   "cell_type": "code",
   "execution_count": 171,
   "metadata": {},
   "outputs": [
    {
     "data": {
      "text/plain": [
       "[PosixPath('.ipynb_checkpoints'),\n",
       " PosixPath('venv'),\n",
       " PosixPath('CloudGuru'),\n",
       " PosixPath('.idea')]"
      ]
     },
     "execution_count": 171,
     "metadata": {},
     "output_type": "execute_result"
    }
   ],
   "source": [
    "import os, sys,pathlib\n",
    "from os import listdir\n",
    "from pathlib import Path\n",
    "p = Path('.')\n",
    "[x for x in p.iterdir() if x.is_dir()] "
   ]
  },
  {
   "cell_type": "code",
   "execution_count": 173,
   "metadata": {},
   "outputs": [
    {
     "data": {
      "text/plain": [
       "'/Users/mbheri/PycharmProjects/CloudGuru'"
      ]
     },
     "execution_count": 173,
     "metadata": {},
     "output_type": "execute_result"
    }
   ],
   "source": [
    "os.path.abspath('.')"
   ]
  },
  {
   "cell_type": "code",
   "execution_count": 174,
   "metadata": {},
   "outputs": [
    {
     "data": {
      "text/plain": [
       "'/Users/mbheri/PycharmProjects/CloudGuru'"
      ]
     },
     "execution_count": 174,
     "metadata": {},
     "output_type": "execute_result"
    }
   ],
   "source": [
    "os.getcwd()"
   ]
  },
  {
   "cell_type": "code",
   "execution_count": 205,
   "metadata": {},
   "outputs": [
    {
     "name": "stdout",
     "output_type": "stream",
     "text": [
      "words_dat.txt\n",
      "/Users/mbheri/Downloads/words_dat.txt\n"
     ]
    }
   ],
   "source": [
    "basepath = '/Users/mbheri/Downloads'\n",
    "for entry in os.listdir(basepath):\n",
    "    #print(entry)\n",
    "    if '.txt' in entry:\n",
    "        print(entry)\n",
    "        print(os.path.join(basepath, entry))\n"
   ]
  },
  {
   "cell_type": "code",
   "execution_count": 210,
   "metadata": {},
   "outputs": [
    {
     "name": "stdout",
     "output_type": "stream",
     "text": [
      "['xenon+3,1\\n', 'xerox+\\n', 'xored\\n', 'xylem+1,4\\n']\n"
     ]
    }
   ],
   "source": [
    "with open('/Users/mbheri/Downloads/words_dat.txt') as file1:\n",
    "    x= [line for line in file1 if line[0] =='x']\n",
    "    \n",
    "print(x)"
   ]
  },
  {
   "cell_type": "code",
   "execution_count": 216,
   "metadata": {},
   "outputs": [
    {
     "data": {
      "text/plain": [
       "'try again'"
      ]
     },
     "execution_count": 216,
     "metadata": {},
     "output_type": "execute_result"
    }
   ],
   "source": [
    "pets = {'bird':3.5, 'cat':5.0, 'dog':7.25}\n",
    "\n",
    "def fn_get_pet_price(pet):\n",
    "    if pet in pets.keys():return pets[pet]\n",
    "    else: return 'try again'\n",
    "\n",
    "\n",
    "fn_get_pet_price('ae')"
   ]
  },
  {
   "cell_type": "code",
   "execution_count": null,
   "metadata": {},
   "outputs": [],
   "source": [
    "1"
   ]
  }
 ],
 "metadata": {
  "kernelspec": {
   "display_name": "Python 3",
   "language": "python",
   "name": "python3"
  },
  "language_info": {
   "codemirror_mode": {
    "name": "ipython",
    "version": 3
   },
   "file_extension": ".py",
   "mimetype": "text/x-python",
   "name": "python",
   "nbconvert_exporter": "python",
   "pygments_lexer": "ipython3",
   "version": "3.7.1"
  }
 },
 "nbformat": 4,
 "nbformat_minor": 2
}
