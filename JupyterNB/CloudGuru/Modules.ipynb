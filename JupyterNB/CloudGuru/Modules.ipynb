{
 "cells": [
  {
   "cell_type": "markdown",
   "metadata": {},
   "source": [
    "# reference notes\n",
    "https://docs.python.org/3/library/index.html"
   ]
  },
  {
   "cell_type": "code",
   "execution_count": 1,
   "metadata": {},
   "outputs": [
    {
     "data": {
      "text/plain": [
       "3.141592653589793"
      ]
     },
     "execution_count": 1,
     "metadata": {},
     "output_type": "execute_result"
    }
   ],
   "source": [
    "import math\n",
    "math.pi"
   ]
  },
  {
   "cell_type": "code",
   "execution_count": 2,
   "metadata": {},
   "outputs": [
    {
     "data": {
      "text/plain": [
       "2.718281828459045"
      ]
     },
     "execution_count": 2,
     "metadata": {},
     "output_type": "execute_result"
    }
   ],
   "source": [
    "math.e"
   ]
  },
  {
   "cell_type": "code",
   "execution_count": 3,
   "metadata": {},
   "outputs": [
    {
     "data": {
      "text/plain": [
       "-0.4480736161291701"
      ]
     },
     "execution_count": 3,
     "metadata": {},
     "output_type": "execute_result"
    }
   ],
   "source": [
    "math.cos(90)"
   ]
  },
  {
   "cell_type": "code",
   "execution_count": 5,
   "metadata": {},
   "outputs": [
    {
     "data": {
      "text/plain": [
       "10"
      ]
     },
     "execution_count": 5,
     "metadata": {},
     "output_type": "execute_result"
    }
   ],
   "source": [
    "math.ceil(10)"
   ]
  },
  {
   "cell_type": "code",
   "execution_count": 8,
   "metadata": {},
   "outputs": [
    {
     "data": {
      "text/plain": [
       "30.0"
      ]
     },
     "execution_count": 8,
     "metadata": {},
     "output_type": "execute_result"
    }
   ],
   "source": [
    "math.copysign(30,10)"
   ]
  },
  {
   "cell_type": "code",
   "execution_count": 11,
   "metadata": {},
   "outputs": [
    {
     "data": {
      "text/plain": [
       "5.0"
      ]
     },
     "execution_count": 11,
     "metadata": {},
     "output_type": "execute_result"
    }
   ],
   "source": [
    "math.fabs(5)"
   ]
  },
  {
   "cell_type": "code",
   "execution_count": 14,
   "metadata": {},
   "outputs": [
    {
     "data": {
      "text/plain": [
       "6"
      ]
     },
     "execution_count": 14,
     "metadata": {},
     "output_type": "execute_result"
    }
   ],
   "source": [
    "math.factorial(3)"
   ]
  },
  {
   "cell_type": "code",
   "execution_count": 16,
   "metadata": {},
   "outputs": [
    {
     "data": {
      "text/plain": [
       "4"
      ]
     },
     "execution_count": 16,
     "metadata": {},
     "output_type": "execute_result"
    }
   ],
   "source": [
    "math.floor(4)"
   ]
  },
  {
   "cell_type": "code",
   "execution_count": 26,
   "metadata": {},
   "outputs": [
    {
     "data": {
      "text/plain": [
       "4"
      ]
     },
     "execution_count": 26,
     "metadata": {},
     "output_type": "execute_result"
    }
   ],
   "source": [
    "import random \n",
    "random.randint(0,13)"
   ]
  },
  {
   "cell_type": "code",
   "execution_count": 66,
   "metadata": {},
   "outputs": [
    {
     "data": {
      "text/plain": [
       "['1 of hearts',\n",
       " '2 of hearts',\n",
       " '3 of hearts',\n",
       " '4 of hearts',\n",
       " '5 of hearts',\n",
       " '6 of hearts',\n",
       " '7 of hearts',\n",
       " '8 of hearts',\n",
       " '9 of hearts',\n",
       " '10 of hearts',\n",
       " '11 of hearts',\n",
       " '12 of hearts',\n",
       " '13 of hearts',\n",
       " '1 of diamonds',\n",
       " '2 of diamonds',\n",
       " '3 of diamonds',\n",
       " '4 of diamonds',\n",
       " '5 of diamonds',\n",
       " '6 of diamonds',\n",
       " '7 of diamonds',\n",
       " '8 of diamonds',\n",
       " '9 of diamonds',\n",
       " '10 of diamonds',\n",
       " '11 of diamonds',\n",
       " '12 of diamonds',\n",
       " '13 of diamonds',\n",
       " '1 of clubs',\n",
       " '2 of clubs',\n",
       " '3 of clubs',\n",
       " '4 of clubs',\n",
       " '5 of clubs',\n",
       " '6 of clubs',\n",
       " '7 of clubs',\n",
       " '8 of clubs',\n",
       " '9 of clubs',\n",
       " '10 of clubs',\n",
       " '11 of clubs',\n",
       " '12 of clubs',\n",
       " '13 of clubs',\n",
       " '1 of spades',\n",
       " '2 of spades',\n",
       " '3 of spades',\n",
       " '4 of spades',\n",
       " '5 of spades',\n",
       " '6 of spades',\n",
       " '7 of spades',\n",
       " '8 of spades',\n",
       " '9 of spades',\n",
       " '10 of spades',\n",
       " '11 of spades',\n",
       " '12 of spades',\n",
       " '13 of spades']"
      ]
     },
     "execution_count": 66,
     "metadata": {},
     "output_type": "execute_result"
    }
   ],
   "source": [
    "suits = ['hearts','diamonds','clubs','spades']\n",
    "values=list(range(1,14))\n",
    "cards = []\n",
    "for s in suits:\n",
    "    for v in values:\n",
    "        cards.append(\"{0} of {1}\".format(v,s))\n",
    "\n",
    "cards\n",
    "    "
   ]
  },
  {
   "cell_type": "code",
   "execution_count": 75,
   "metadata": {},
   "outputs": [
    {
     "data": {
      "text/plain": [
       "['9 of spades',\n",
       " '12 of clubs',\n",
       " '1 of spades',\n",
       " '3 of diamonds',\n",
       " '5 of diamonds',\n",
       " '2 of hearts',\n",
       " '7 of hearts',\n",
       " '4 of hearts',\n",
       " '5 of spades',\n",
       " '11 of hearts',\n",
       " '9 of diamonds',\n",
       " '10 of hearts',\n",
       " '2 of diamonds',\n",
       " '12 of hearts',\n",
       " '4 of clubs',\n",
       " '11 of clubs',\n",
       " '4 of diamonds',\n",
       " '13 of diamonds',\n",
       " '10 of diamonds',\n",
       " '5 of clubs',\n",
       " '10 of clubs',\n",
       " '12 of spades',\n",
       " '8 of diamonds',\n",
       " '7 of diamonds',\n",
       " '3 of spades',\n",
       " '9 of hearts',\n",
       " '8 of clubs',\n",
       " '6 of clubs',\n",
       " '1 of diamonds',\n",
       " '6 of hearts',\n",
       " '2 of clubs',\n",
       " '6 of diamonds',\n",
       " '4 of spades',\n",
       " '7 of clubs',\n",
       " '8 of spades',\n",
       " '1 of clubs',\n",
       " '5 of hearts',\n",
       " '3 of clubs',\n",
       " '10 of spades',\n",
       " '8 of hearts',\n",
       " '13 of hearts',\n",
       " '13 of clubs',\n",
       " '12 of diamonds',\n",
       " '1 of hearts',\n",
       " '9 of clubs',\n",
       " '2 of spades',\n",
       " '6 of spades',\n",
       " '3 of hearts',\n",
       " '13 of spades',\n",
       " '7 of spades',\n",
       " '11 of spades',\n",
       " '11 of diamonds']"
      ]
     },
     "execution_count": 75,
     "metadata": {},
     "output_type": "execute_result"
    }
   ],
   "source": [
    "random.shuffle(cards)\n",
    "cards"
   ]
  },
  {
   "cell_type": "code",
   "execution_count": 77,
   "metadata": {},
   "outputs": [
    {
     "data": {
      "text/plain": [
       "3.141592653589793"
      ]
     },
     "execution_count": 77,
     "metadata": {},
     "output_type": "execute_result"
    }
   ],
   "source": [
    "import itertools as iter \n",
    "import math as frosby\n",
    "frosby.pi"
   ]
  },
  {
   "cell_type": "code",
   "execution_count": 78,
   "metadata": {},
   "outputs": [
    {
     "name": "stdout",
     "output_type": "stream",
     "text": [
      "12\n",
      "3\n",
      "4\n",
      "25\n",
      "51\n",
      "1\n"
     ]
    }
   ],
   "source": [
    "for num in iter.chain([12,3,4],[25,51,1]):\n",
    "    print(num)"
   ]
  },
  {
   "cell_type": "code",
   "execution_count": 87,
   "metadata": {},
   "outputs": [
    {
     "name": "stdout",
     "output_type": "stream",
     "text": [
      "I need 3 cards hearts,diamonds\n",
      "I need 3 cards hearts,clubs\n",
      "I need 3 cards hearts,spades\n",
      "I need 3 cards diamonds,clubs\n",
      "I need 3 cards diamonds,spades\n",
      "I need 3 cards clubs,spades\n"
     ]
    }
   ],
   "source": [
    "for (a,b) in iter.combinations(suits, 2):\n",
    "    print(\"I need 3 cards {0},{1}\".format(a,b))"
   ]
  },
  {
   "cell_type": "code",
   "execution_count": 93,
   "metadata": {},
   "outputs": [
    {
     "data": {
      "text/plain": [
       "time.struct_time(tm_year=2019, tm_mon=9, tm_mday=2, tm_hour=10, tm_min=11, tm_sec=28, tm_wday=0, tm_yday=245, tm_isdst=1)"
      ]
     },
     "execution_count": 93,
     "metadata": {},
     "output_type": "execute_result"
    }
   ],
   "source": [
    "import time\n",
    "time.localtime()"
   ]
  },
  {
   "cell_type": "code",
   "execution_count": 95,
   "metadata": {},
   "outputs": [
    {
     "data": {
      "text/plain": [
       "time.struct_time(tm_year=2019, tm_mon=9, tm_mday=2, tm_hour=17, tm_min=11, tm_sec=34, tm_wday=0, tm_yday=245, tm_isdst=0)"
      ]
     },
     "execution_count": 95,
     "metadata": {},
     "output_type": "execute_result"
    }
   ],
   "source": [
    "time.gmtime()"
   ]
  },
  {
   "cell_type": "code",
   "execution_count": 125,
   "metadata": {},
   "outputs": [
    {
     "data": {
      "text/plain": [
       "'17:17:42 PM-Monday September 02 2019'"
      ]
     },
     "execution_count": 125,
     "metadata": {},
     "output_type": "execute_result"
    }
   ],
   "source": [
    "now=time.strftime('%H:%M:%S %p-%A %B %d %Y', time.gmtime())\n",
    "now"
   ]
  },
  {
   "cell_type": "code",
   "execution_count": 120,
   "metadata": {},
   "outputs": [],
   "source": [
    "time.sleep(5)"
   ]
  },
  {
   "cell_type": "code",
   "execution_count": 121,
   "metadata": {},
   "outputs": [
    {
     "data": {
      "text/plain": [
       "1567444618.1192389"
      ]
     },
     "execution_count": 121,
     "metadata": {},
     "output_type": "execute_result"
    }
   ],
   "source": [
    "time.time()"
   ]
  },
  {
   "cell_type": "code",
   "execution_count": 126,
   "metadata": {},
   "outputs": [
    {
     "data": {
      "text/plain": [
       "'17:17:42 PM-Monday September 02 2019'"
      ]
     },
     "execution_count": 126,
     "metadata": {},
     "output_type": "execute_result"
    }
   ],
   "source": [
    "import datetime\n",
    "now"
   ]
  },
  {
   "cell_type": "markdown",
   "metadata": {},
   "source": [
    "# compression modules"
   ]
  },
  {
   "cell_type": "code",
   "execution_count": 149,
   "metadata": {},
   "outputs": [
    {
     "name": "stdout",
     "output_type": "stream",
     "text": [
      "['recipe.txt', 'scrabble.txt']\n",
      "None\n"
     ]
    }
   ],
   "source": [
    "import zipfile\n",
    "from zipfile import ZipFile\n",
    "\n",
    "with ZipFile('/Users/mbheri/Downloads/files.zip') as files:\n",
    "    print(files.namelist())\n",
    "    print(files.extractall())"
   ]
  },
  {
   "cell_type": "code",
   "execution_count": 132,
   "metadata": {},
   "outputs": [
    {
     "data": {
      "text/plain": [
       "'/Users/mbheri/PycharmProjects/CloudGuru'"
      ]
     },
     "execution_count": 132,
     "metadata": {},
     "output_type": "execute_result"
    }
   ],
   "source": [
    "import os \n",
    "os.getcwd()"
   ]
  },
  {
   "cell_type": "code",
   "execution_count": 150,
   "metadata": {},
   "outputs": [],
   "source": [
    "import csv\n",
    "with open('/Users/mbheri/Downloads/users.csv','w') as csvfile:\n",
    "    writer = csv.writer(csvfile)\n",
    "    writer.writerow(['id','val'])\n",
    "    writer.writerow(['hello',',asdad'])\n",
    "    writer.writerow([1,3])"
   ]
  },
  {
   "cell_type": "code",
   "execution_count": 154,
   "metadata": {},
   "outputs": [
    {
     "name": "stdout",
     "output_type": "stream",
     "text": [
      "id,val\r",
      "\r\n",
      "hello,\",asdad\"\r",
      "\r\n",
      "1,3\r",
      "\r\n"
     ]
    }
   ],
   "source": [
    "cat '/Users/mbheri/Downloads/users.csv'"
   ]
  },
  {
   "cell_type": "code",
   "execution_count": 163,
   "metadata": {},
   "outputs": [
    {
     "name": "stdout",
     "output_type": "stream",
     "text": [
      "id\n",
      "hello\n",
      "1\n"
     ]
    }
   ],
   "source": [
    "with open('/Users/mbheri/Downloads/users.csv','r') as f:\n",
    "    for i in f.readlines():print(i.split(',')[0])"
   ]
  },
  {
   "cell_type": "code",
   "execution_count": null,
   "metadata": {},
   "outputs": [],
   "source": [
    "pip"
   ]
  }
 ],
 "metadata": {
  "kernelspec": {
   "display_name": "Python 3",
   "language": "python",
   "name": "python3"
  },
  "language_info": {
   "codemirror_mode": {
    "name": "ipython",
    "version": 3
   },
   "file_extension": ".py",
   "mimetype": "text/x-python",
   "name": "python",
   "nbconvert_exporter": "python",
   "pygments_lexer": "ipython3",
   "version": "3.7.1"
  }
 },
 "nbformat": 4,
 "nbformat_minor": 2
}
