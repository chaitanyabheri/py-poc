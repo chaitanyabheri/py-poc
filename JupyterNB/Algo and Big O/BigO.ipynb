{
 "cells": [
  {
   "cell_type": "markdown",
   "metadata": {},
   "source": [
    "# Time Complexity 0(1) \n",
    "Constant<br>\n",
    "Examples :append, get, set"
   ]
  },
  {
   "cell_type": "code",
   "execution_count": null,
   "metadata": {},
   "outputs": [],
   "source": [
    "#Append item to list \n",
    "mylist = []\n",
    "mylist.append('hello')\n",
    "mylist"
   ]
  },
  {
   "cell_type": "markdown",
   "metadata": {},
   "source": [
    "# Time Complexibity O(log n)\n",
    "Name: Logarithmic<br>\n",
    "Example operations: Finding an element in a sorted array."
   ]
  },
  {
   "cell_type": "code",
   "execution_count": null,
   "metadata": {},
   "outputs": [],
   "source": [
    "# Find target 22 (i.e. return its index)in a sorted list\n",
    "# Here we use Binary Search algorithm because its time complexity is \n",
    "# O(log n)\n",
    "\n",
    "def binarySearch(sortedarr, tgt):\n",
    "    l = 0\n",
    "    r = len(sortedarr)-1\n",
    "    \n",
    "    while l<=r:\n",
    "        m = (l+r)//2\n",
    "        if sortedarr[m]==tgt:\n",
    "            return m\n",
    "        elif arr[m]<tgt:\n",
    "            l = m +1\n",
    "        else:\n",
    "            l=m-1\n",
    "            \n",
    "    return -1  \n",
    "\n",
    "binarySearch([1,3,9,22,44,512,224124,251213521],22)\n",
    "# return 3"
   ]
  },
  {
   "cell_type": "markdown",
   "metadata": {},
   "source": [
    "# Time O(n)\n",
    "Name: Linear<br>\n",
    "Example operations: copy, insert, delete, iteration."
   ]
  },
  {
   "cell_type": "code",
   "execution_count": null,
   "metadata": {},
   "outputs": [],
   "source": [
    "# less efficient than binary search \n",
    "# find target 22 in sorted list using linear \n",
    "def LinearSearch(sortedarr, tgt):\n",
    "    for i in range(0,len(sortedarr)):\n",
    "        if sortedarr[i]==tgt:\n",
    "            return i\n",
    "    \n",
    "    #return -1 if not found\n",
    "    return -1\n",
    "        \n",
    "LinearSearch([1,3,9,22,44,55,666,777],22)\n",
    "# return 3\n",
    "LinearSearch([1,3,9,22,44,55,666,777],0)\n",
    "# return -1"
   ]
  },
  {
   "cell_type": "markdown",
   "metadata": {},
   "source": [
    "# Time O(nLogn)\n",
    "Name: Linear-Logarithmic\n",
    "Example operations: Sort a list, for example, merge sort. \n",
    "MergeSort(arr[], l,  r)<br>\n",
    "If r > l<br>\n",
    "     1. Find the middle point to divide the array into two halves:  <br>\n",
    "             middle m = (l+r)/2<br>\n",
    "     2. Call mergeSort for first half:<br>   \n",
    "             Call mergeSort(arr, l, m)<br>\n",
    "     3. Call mergeSort for second half:<br>\n",
    "             Call mergeSort(arr, m+1, r)<br>\n",
    "     4. Merge the two halves sorted in step 2 and 3:<br>\n",
    "             Call merge(arr, l, m, r)"
   ]
  },
  {
   "cell_type": "code",
   "execution_count": 89,
   "metadata": {},
   "outputs": [
    {
     "name": "stdout",
     "output_type": "stream",
     "text": [
      "[11, 22, 55, 44, 77, 66, 44, 33, 88] --fn before exec\n",
      "[11, 22, 33, 44, 44, 55, 66, 77, 88] --fn after exec\n"
     ]
    }
   ],
   "source": [
    "def mergeSort(arr):\n",
    "    #check if len > 1       \n",
    "    if len(arr)>1:\n",
    "        #find the mid\n",
    "        #split for left part\n",
    "        #split for right part\n",
    "        mid = len(arr)//2\n",
    "        left = arr[:mid]\n",
    "        right = arr[mid:]\n",
    "        #print (left, right, mid)\n",
    "        \n",
    "        #call mergeSort for left and right for remaining\n",
    "        mergeSort(left)\n",
    "        mergeSort(right)\n",
    "        \n",
    "        #sort value between left , right and k\n",
    "        i=j=k=0\n",
    "        while i <len(left) and j <len(right):\n",
    "            if left[i]<right[j]:\n",
    "                arr[k]=left[i]\n",
    "                i+=1\n",
    "            else:\n",
    "                arr[k]=right[j]\n",
    "                j+=1\n",
    "            k+=1\n",
    "            \n",
    "        #check for any element was left \n",
    "        while i <len(left):\n",
    "            arr[k]=left[i]\n",
    "            i+=1\n",
    "            k+=1\n",
    "            \n",
    "        while j<len(right):\n",
    "            arr[k]=right[j]\n",
    "            j+=1\n",
    "            k+=1        \n",
    "        \n",
    "\n",
    "arr = [11,22,55,44,77,66,44,33,88]\n",
    "print(arr, '--fn before exec')\n",
    "mergeSort(arr)\n",
    "print(arr, '--fn after exec')"
   ]
  },
  {
   "cell_type": "markdown",
   "metadata": {},
   "source": [
    "# Time Complexity: O(n²)\n",
    "Name: Quadratic<br>\n",
    "Example operations: Find the shortest path between two nodes in a graph. <br>Nested loops."
   ]
  },
  {
   "cell_type": "code",
   "execution_count": 91,
   "metadata": {},
   "outputs": [
    {
     "ename": "SyntaxError",
     "evalue": "invalid syntax (<ipython-input-91-8ccd9ca3d634>, line 2)",
     "output_type": "error",
     "traceback": [
      "\u001b[0;36m  File \u001b[0;32m\"<ipython-input-91-8ccd9ca3d634>\"\u001b[0;36m, line \u001b[0;32m2\u001b[0m\n\u001b[0;31m    for (list in list_groups):\u001b[0m\n\u001b[0m                             ^\u001b[0m\n\u001b[0;31mSyntaxError\u001b[0m\u001b[0;31m:\u001b[0m invalid syntax\n"
     ]
    }
   ],
   "source": [
    "# Nested loops - pseudo code\n",
    "for (list in list_groups):\n",
    "    for (word in work_list):\n",
    "        if (word == target_word):\n",
    "            return 1\n",
    "return -1"
   ]
  },
  {
   "cell_type": "code",
   "execution_count": 66,
   "metadata": {},
   "outputs": [
    {
     "data": {
      "text/plain": [
       "1"
      ]
     },
     "execution_count": 66,
     "metadata": {},
     "output_type": "execute_result"
    }
   ],
   "source": [
    "1"
   ]
  },
  {
   "cell_type": "code",
   "execution_count": 67,
   "metadata": {},
   "outputs": [
    {
     "data": {
      "text/plain": [
       "1"
      ]
     },
     "execution_count": 67,
     "metadata": {},
     "output_type": "execute_result"
    }
   ],
   "source": [
    "1"
   ]
  },
  {
   "cell_type": "code",
   "execution_count": 68,
   "metadata": {},
   "outputs": [
    {
     "data": {
      "text/plain": [
       "1"
      ]
     },
     "execution_count": 68,
     "metadata": {},
     "output_type": "execute_result"
    }
   ],
   "source": [
    "1"
   ]
  },
  {
   "cell_type": "code",
   "execution_count": 69,
   "metadata": {},
   "outputs": [
    {
     "data": {
      "text/plain": [
       "1"
      ]
     },
     "execution_count": 69,
     "metadata": {},
     "output_type": "execute_result"
    }
   ],
   "source": [
    "1"
   ]
  },
  {
   "cell_type": "code",
   "execution_count": 70,
   "metadata": {},
   "outputs": [
    {
     "data": {
      "text/plain": [
       "1"
      ]
     },
     "execution_count": 70,
     "metadata": {},
     "output_type": "execute_result"
    }
   ],
   "source": [
    "1"
   ]
  },
  {
   "cell_type": "code",
   "execution_count": null,
   "metadata": {},
   "outputs": [],
   "source": []
  }
 ],
 "metadata": {
  "kernelspec": {
   "display_name": "Python 3",
   "language": "python",
   "name": "python3"
  },
  "language_info": {
   "codemirror_mode": {
    "name": "ipython",
    "version": 3
   },
   "file_extension": ".py",
   "mimetype": "text/x-python",
   "name": "python",
   "nbconvert_exporter": "python",
   "pygments_lexer": "ipython3",
   "version": "3.7.1"
  }
 },
 "nbformat": 4,
 "nbformat_minor": 2
}
