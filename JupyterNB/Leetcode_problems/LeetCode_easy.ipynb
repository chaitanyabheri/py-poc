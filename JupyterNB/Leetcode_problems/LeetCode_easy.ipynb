{
 "cells": [
  {
   "cell_type": "markdown",
   "metadata": {},
   "source": [
    "#  roman to integer\n",
    "#https://leetcode.com/problems/roman-to-integer/"
   ]
  },
  {
   "cell_type": "code",
   "execution_count": 1,
   "metadata": {},
   "outputs": [
    {
     "name": "stdout",
     "output_type": "stream",
     "text": [
      "957\n"
     ]
    }
   ],
   "source": [
    "def romanToInt(s):\n",
    "    if not s:\n",
    "        return 0\n",
    "    #map values\n",
    "    dic = {\"I\":1, \"V\":5 , \"X\":10, \"L\":50, \"C\":100, \"D\":500, \"M\":1000}\n",
    "    \n",
    "    n = len(s)\n",
    "    \n",
    "    total = dic[s[n-1]] #set total as last sign\n",
    "    for i in range(n-1, 0,-1): #loop from last to first index\n",
    "        current = dic[s[i]]\n",
    "        prev = dic[s[i-1]] #take adjacent numbers\n",
    "        #check for bigger value; if previous is big add else substract\n",
    "        \n",
    "        total += prev if prev >=current else -prev\n",
    "        \n",
    "    print(total)\n",
    "\n",
    "romanToInt('CMLVII')"
   ]
  },
  {
   "cell_type": "markdown",
   "metadata": {},
   "source": [
    "# longest common prefix\n",
    "https://leetcode.com/problems/longest-common-prefix/submissions/"
   ]
  },
  {
   "cell_type": "code",
   "execution_count": 11,
   "metadata": {},
   "outputs": [
    {
     "data": {
      "text/plain": [
       "'hel'"
      ]
     },
     "execution_count": 11,
     "metadata": {},
     "output_type": "execute_result"
    }
   ],
   "source": [
    "#using Zip method \n",
    "def longestCommonPrefix(strs):\n",
    "    prefix =[]\n",
    "    num = len(strs)\n",
    "    \n",
    "    for x in zip(*strs):\n",
    "        if len(set(x))==1:\n",
    "            prefix.append(x[0])\n",
    "        else:\n",
    "            break\n",
    "    return (\"\".join(prefix))\n",
    "    \n",
    "    \n",
    "strs = ['hel', 'hello', 'helloa']\n",
    "longestCommonPrefix(strs)"
   ]
  },
  {
   "cell_type": "code",
   "execution_count": 175,
   "metadata": {},
   "outputs": [],
   "source": [
    "#using zip and sort\n",
    "class Solution:\n",
    "    def longestCommonPrefix(self, strs):\n",
    "        \"\"\"\n",
    "        :type strs: List[str]\n",
    "        :rtype: str\n",
    "        \"\"\"\n",
    "        if not strs: return \"\"\n",
    "        if len(strs) == 1: return strs[0]\n",
    "        \n",
    "        strs.sort()\n",
    "        p = \"\"\n",
    "        for x, y in zip(strs[0], strs[-1]):\n",
    "            if x == y: p+=x\n",
    "            else: break\n",
    "        return r"
   ]
  },
  {
   "cell_type": "code",
   "execution_count": 157,
   "metadata": {},
   "outputs": [
    {
     "data": {
      "text/plain": [
       "''"
      ]
     },
     "execution_count": 157,
     "metadata": {},
     "output_type": "execute_result"
    }
   ],
   "source": [
    "# word matching geek for geeks \n",
    "# https://www.geeksforgeeks.org/\n",
    "#longest-common-prefix-using-word-by-word-matching/\n",
    "#Time Complexity O(N(M)) \n",
    "        #N = Number of strings\n",
    "        #M = Length of the largest  string \n",
    "#Space \n",
    "     #O(M)\n",
    "\n",
    "    # Create utility fn for common prefix between 2 strings\n",
    "def CommonPrefixUtil(str1, str2):\n",
    "    result =''\n",
    "    \n",
    "    i=0\n",
    "    j=0\n",
    " \n",
    "    while i<=len(str1)-1 and j<=len(str2)-1:\n",
    "        if str1[i]!=str2[j]:\n",
    "            break\n",
    "            \n",
    "        result += str1[i]\n",
    "        i=i+1\n",
    "        j=j+1\n",
    "    \n",
    "    return(result)\n",
    "        \n",
    "       #common prefix for array or strings\n",
    "def longestCommonPrefix (strs):\n",
    "    if (len(strs))==0:\n",
    "            return ''\n",
    "   \n",
    "    prefix = strs[0]\n",
    "    for i in range(1,len(strs)):\n",
    "        prefix = CommonPrefixUtil(prefix, strs[i])\n",
    "    \n",
    "    return(prefix)\n",
    "       \n",
    "\n",
    "strs = [\"geeksforgeeks\", \"geeks\", \n",
    "                    \"geek\", \"geezer\"] \n",
    "CommonPrefixUtil ('geeksforgeeks', 'geeks')\n",
    "strs =[]\n",
    "longestCommonPrefix(strs)\n"
   ]
  },
  {
   "cell_type": "code",
   "execution_count": 171,
   "metadata": {},
   "outputs": [
    {
     "data": {
      "text/plain": [
       "'gee'"
      ]
     },
     "execution_count": 171,
     "metadata": {},
     "output_type": "execute_result"
    }
   ],
   "source": [
    "# characater matching \n",
    "# https://www.geeksforgeeks.org\n",
    "#/longest-common-prefix-using-character-by-character-matching/ \n",
    "# get length of min word \n",
    "# for each character until min length\n",
    "    #for each word in list until that length\n",
    "        #check value matches \n",
    "# T --> O(N M) N = Number of strings M =  Length of the largest string string \n",
    "#Space  -->  O(M).\n",
    "def longestCommonPrefix(strs):\n",
    "    \n",
    "    def findminLen(strs):\n",
    "        min_len = len(strs[0])\n",
    "        for i in range(1,len(strs)):\n",
    "            if (len(strs[i])<min_len):\n",
    "                min_len = len(strs[i])\n",
    "        \n",
    "        return(min_len)\n",
    "    \n",
    "    min_l = findminLen(strs)\n",
    "    \n",
    "    result = ''\n",
    "    \n",
    "    for i in range(min_l):\n",
    "        current = strs[0][i]\n",
    "        \n",
    "        for j in range(1,len(strs)):\n",
    "            if (strs[j][i]!=current):\n",
    "                return result\n",
    "        result = result+current\n",
    "    \n",
    "    return(result)\n",
    "\n",
    "\n",
    "strs = [\"geeksforgeeks\", \"geeks\", \n",
    "                    \"geek\", \"geezer\"] \n",
    "\n",
    "longestCommonPrefix(strs)"
   ]
  },
  {
   "cell_type": "code",
   "execution_count": 202,
   "metadata": {},
   "outputs": [
    {
     "data": {
      "text/plain": [
       "1"
      ]
     },
     "execution_count": 202,
     "metadata": {},
     "output_type": "execute_result"
    }
   ],
   "source": [
    "class Solution(object):\n",
    "    def isValid(self, s):\n",
    "        \"\"\"\n",
    "        :type s: str\n",
    "        :rtype: bool\n",
    "        \"\"\"\n",
    "\n",
    "        # The stack to keep track of opening brackets.\n",
    "        stack = []\n",
    "\n",
    "        # Hash map for keeping track of mappings. This keeps the code very clean.\n",
    "        # Also makes adding more types of parenthesis easier\n",
    "        mapping = {\")\": \"(\", \"}\": \"{\", \"]\": \"[\"}\n",
    "\n",
    "        # For every bracket in the expression.\n",
    "        for char in s:\n",
    "\n",
    "            # If the character is an closing bracket\n",
    "            if char in mapping:\n",
    "\n",
    "                # Pop the topmost element from the stack, if it is non empty\n",
    "                # Otherwise assign a dummy value of '#' to the top_element variable\n",
    "                top_element = stack.pop() if stack else '#'\n",
    "\n",
    "                # The mapping for the opening bracket in our hash and the top\n",
    "                # element of the stack don't match, return False\n",
    "                if mapping[char] != top_element:\n",
    "                    return False\n",
    "            else:\n",
    "                # We have an opening bracket, simply push it onto the stack.\n",
    "                stack.append(char)\n",
    "\n",
    "        # In the end, if the stack is empty, then we have a valid expression.\n",
    "        # The stack won't be empty for cases like ((()\n",
    "        return not stack"
   ]
  },
  {
   "cell_type": "markdown",
   "metadata": {},
   "source": [
    "https://leetcode.com/problems/valid-parentheses/\n",
    "# Valid paratethesis \n"
   ]
  },
  {
   "cell_type": "code",
   "execution_count": 250,
   "metadata": {},
   "outputs": [
    {
     "data": {
      "text/plain": [
       "True"
      ]
     },
     "execution_count": 250,
     "metadata": {},
     "output_type": "execute_result"
    }
   ],
   "source": [
    "def isValid(s): \n",
    "        # create mapping \n",
    "        # create open bracket set \n",
    "        # for each new open add to stack\n",
    "            #if close check result mapping --> true pop\n",
    "            #false break \n",
    "        #check result with empty \n",
    "        \n",
    "    bracket_map = {'{':'}', '(':')','[':']'}\n",
    "    open_brac = set(['[','(','{'])\n",
    "\n",
    "    stack = []\n",
    "\n",
    "    for char in s:\n",
    "        if char in open_brac:\n",
    "            stack.append(char)\n",
    "        elif stack and char == bracket_map[stack[-1]]:\n",
    "            stack.pop()\n",
    "        else:\n",
    "            return False\n",
    "        \n",
    "    return stack ==[]\n",
    "\n",
    "s=\"()\"  \n",
    "isValid(s)"
   ]
  },
  {
   "cell_type": "code",
   "execution_count": 242,
   "metadata": {},
   "outputs": [],
   "source": [
    "bracket_map = {\"(\": \")\", \"[\": \"]\",  \"{\": \"}\"}\n",
    "open_par = set([\"(\", \"[\", \"{\"])\n",
    "\n",
    "s=\"()\""
   ]
  },
  {
   "cell_type": "markdown",
   "metadata": {},
   "source": [
    "# Merge linked lists\n",
    "https://leetcode.com/problems/merge-two-sorted-lists/"
   ]
  },
  {
   "cell_type": "code",
   "execution_count": 271,
   "metadata": {},
   "outputs": [
    {
     "name": "stdout",
     "output_type": "stream",
     "text": [
      "[]\n"
     ]
    }
   ],
   "source": [
    "l1=[1,2,4]\n",
    "l2=[1,3,4]\n",
    "\n",
    "l = []\n",
    "\n",
    "\n",
    "\n",
    "print(l)"
   ]
  },
  {
   "cell_type": "code",
   "execution_count": 281,
   "metadata": {},
   "outputs": [
    {
     "data": {
      "text/plain": [
       "<__main__.ListNode at 0x1060d1080>"
      ]
     },
     "execution_count": 281,
     "metadata": {},
     "output_type": "execute_result"
    }
   ],
   "source": [
    "# Definition for singly-linked list.\n",
    "class ListNode:\n",
    "    def __init__(self, x):\n",
    "        self.val = x\n",
    "        self.next = None\n",
    "\n",
    "def mergeTwoLists( l1, l2):\n",
    "    \n",
    "    result = ListNode(None)\n",
    "    temp = result\n",
    "    \n",
    "    while l1 and l2:\n",
    "        if (l1.val<=l2.val):\n",
    "            temp.next = l1\n",
    "            l1=l1.next\n",
    "            temp =temp.next\n",
    "        else:\n",
    "            temp.next=l2\n",
    "            l2=l2.next\n",
    "            temp=temp.next\n",
    "            \n",
    "    temp.next=l1 or l2\n",
    "    return result.next\n"
   ]
  },
  {
   "cell_type": "markdown",
   "metadata": {},
   "source": [
    "# 26 Remove Duplicates from Sorted Array\n",
    "https://leetcode.com/problems/remove-duplicates-from-sorted-array/\n",
    "https://www.geeksforgeeks.org/remove-duplicates-sorted-array/"
   ]
  },
  {
   "cell_type": "code",
   "execution_count": 354,
   "metadata": {},
   "outputs": [
    {
     "name": "stdout",
     "output_type": "stream",
     "text": [
      "[1, 2, 3]\n",
      "[1, 2, 3] 3\n"
     ]
    },
    {
     "data": {
      "text/plain": [
       "3"
      ]
     },
     "execution_count": 354,
     "metadata": {},
     "output_type": "execute_result"
    }
   ],
   "source": [
    "def removeDuplicates(nums):\n",
    "#Time Complexity : O(n)\n",
    "#Auxiliary Space : O(1)  --> constant extra space\n",
    "#https://www.geeksforgeeks.org/remove-duplicates-sorted-array/\n",
    "    l = len(nums)\n",
    "    pos = 0\n",
    "    for i in range(l-1):\n",
    "        if nums[i]!=nums[i+1]:\n",
    "            nums[pos]=nums[i]\n",
    "            pos+=1\n",
    "    nums[pos]=nums[-1]\n",
    "    pos= pos+1\n",
    "    print(nums, pos)\n",
    "    return(pos)\n",
    "               \n",
    "\n",
    "#nums = [1,2,2,33,33,44,44,55]\n",
    "nums=[1,2,3]\n",
    "print(nums)\n",
    "removeDuplicates(nums)\n",
    "#print(nums)"
   ]
  },
  {
   "cell_type": "code",
   "execution_count": 361,
   "metadata": {},
   "outputs": [
    {
     "ename": "SyntaxError",
     "evalue": "invalid syntax (<ipython-input-361-7b7983103344>, line 9)",
     "output_type": "error",
     "traceback": [
      "\u001b[0;36m  File \u001b[0;32m\"<ipython-input-361-7b7983103344>\"\u001b[0;36m, line \u001b[0;32m9\u001b[0m\n\u001b[0;31m    j=0\u001b[0m\n\u001b[0m    ^\u001b[0m\n\u001b[0;31mSyntaxError\u001b[0m\u001b[0;31m:\u001b[0m invalid syntax\n"
     ]
    }
   ],
   "source": [
    "def removeDuplicates (nums):\n",
    "    \n",
    "#Time Complexity : O(n)\n",
    "#Auxiliary Space : O(1)  --> Using extra space\n",
    "    if len(nums)==0 or len(nums)==1:\n",
    "        return len(nums)\n",
    "    \n",
    "    temp = list(range(len(nums))\n",
    "    j=0\n",
    "    for i in range(0, len(nums)-1):\n",
    "        if nums[i]!=nums[i+1]:\n",
    "            temp[j]=nums[i]\n",
    "            j+-=1\n",
    "    temp[j]=nums[len(nums)-1]\n",
    "    j=j+1\n",
    "    return(j)\n",
    "\n",
    "#nums = [1,2,2,33,33,44,44,55]\n",
    "nums=[1,2,3]\n",
    "print(nums)\n",
    "removeDuplicates(nums)\n",
    "#print(nums)\n"
   ]
  },
  {
   "cell_type": "markdown",
   "metadata": {},
   "source": [
    "# 27 Remove Element\n",
    "https://leetcode.com/problems/remove-element/"
   ]
  },
  {
   "cell_type": "code",
   "execution_count": 411,
   "metadata": {},
   "outputs": [
    {
     "data": {
      "text/plain": [
       "[1, 3, 0, 4, 0]"
      ]
     },
     "execution_count": 411,
     "metadata": {},
     "output_type": "execute_result"
    }
   ],
   "source": [
    "def removeElement(nums, val):\n",
    "    j=0\n",
    "    for i in range(len(nums)):\n",
    "        if (nums[i]==val):\n",
    "            nums[i],nums[j]=nums[j],nums[i]\n",
    "            j+=1\n",
    "    nums = nums[j:]  \n",
    "    return nums\n",
    "\n",
    "\n",
    "\n",
    "'''nums =[0,1,2,2,3,0,4,2]\n",
    "\n",
    "j=0\n",
    "nums[i]=val\n",
    "22213040\n",
    "01234567\n",
    "i=7\n",
    "j=3\n",
    "val = 2\n",
    "'''\n",
    "\n",
    "nums =[0,1,2,2,3,0,4,2]\n",
    "removeElement(nums, 2)\n",
    "\n"
   ]
  },
  {
   "cell_type": "code",
   "execution_count": 420,
   "metadata": {},
   "outputs": [
    {
     "name": "stdout",
     "output_type": "stream",
     "text": [
      "[2, 2, 2, 1, 3, 0, 4, 2, 0]\n",
      "[1, 3, 0, 4, 0, 0, 4, 2, 0] 5\n"
     ]
    }
   ],
   "source": [
    "nums =[2, 2, 2, 1, 3, 0, 4, 2,0]\n",
    "val = 2\n",
    "i=0\n",
    "print(nums)\n",
    "for num in nums:\n",
    "    if num!=val:\n",
    "        nums[i]=num\n",
    "        i+=1\n",
    "    #print(nums)\n",
    "\n",
    "print(nums, i)\n",
    "        "
   ]
  },
  {
   "cell_type": "markdown",
   "metadata": {},
   "source": [
    "# Implement strStr()\n",
    "https://leetcode.com/problems/implement-strstr/"
   ]
  },
  {
   "cell_type": "code",
   "execution_count": 424,
   "metadata": {},
   "outputs": [
    {
     "data": {
      "text/plain": [
       "1"
      ]
     },
     "execution_count": 424,
     "metadata": {},
     "output_type": "execute_result"
    }
   ],
   "source": [
    "def strStr(haystack:str, needle:str):\n",
    "    if needle in haystack:\n",
    "        return haystack.index(needle)\n",
    "    else:\n",
    "        return -1\n",
    "\n",
    "strStr('hello', 'el')\n"
   ]
  },
  {
   "cell_type": "markdown",
   "metadata": {},
   "source": [
    "# Search Insert position\n",
    "https://leetcode.com/problems/search-insert-position/"
   ]
  },
  {
   "cell_type": "code",
   "execution_count": 442,
   "metadata": {},
   "outputs": [
    {
     "data": {
      "text/plain": [
       "4"
      ]
     },
     "execution_count": 442,
     "metadata": {},
     "output_type": "execute_result"
    }
   ],
   "source": [
    "#Linear Search \n",
    "def SearchInsert(nums, x):\n",
    "    for num in nums:\n",
    "        if num>=x:\n",
    "            return nums.index(num)\n",
    "    return len(nums)\n",
    "\n",
    "nums = [1,3,5,6]\n",
    "SearchInsert(nums,23)"
   ]
  },
  {
   "cell_type": "code",
   "execution_count": 469,
   "metadata": {},
   "outputs": [
    {
     "data": {
      "text/plain": [
       "1"
      ]
     },
     "execution_count": 469,
     "metadata": {},
     "output_type": "execute_result"
    }
   ],
   "source": [
    "# Binary Search \n",
    "def SearchInsert(nums,num):\n",
    "    return BinarySearch(nums,0, len(nums)-1, num)\n",
    "    \n",
    "def BinarySearch(nums, st, end, num):\n",
    "    if st<end:\n",
    "        \n",
    "        mid =(st+end)//2\n",
    "        \n",
    "        if nums[mid]==num:\n",
    "            return mid\n",
    "        \n",
    "        elif nums[mid]>num:\n",
    "            return BinarySearch(nums,st, mid,num)\n",
    "        else:\n",
    "            return BinarySearch(nums,mid+1, end, num)\n",
    "        \n",
    "    if nums[st]==num:\n",
    "        return st\n",
    "    if nums[end]==num:\n",
    "        return end\n",
    "    if nums[end]<num:\n",
    "        return end+1\n",
    "    if nums[st]>num:\n",
    "        return st\n",
    "    else:\n",
    "        return st+1\n",
    "        \n",
    "nums = [1,3]\n",
    "SearchInsert(nums,2)       \n",
    "        "
   ]
  },
  {
   "cell_type": "markdown",
   "metadata": {},
   "source": [
    "# Largest continous subarray\n",
    "https://www.geeksforgeeks.org/largest-sum-contiguous-subarray/\n",
    "https://leetcode.com/problems/maximum-subarray/\n",
    "<br>Kadande's algo;  max_so_far = 0;  max_ending_here=0\n",
    "\n",
    "Loop for each elem in array<br>\n",
    "a)max_ending_here = max_ending_here+a[i]<br>\n",
    "b)if max_ending_here<0: max_ending_here = 0<br>\n",
    "c)if max_so_far<max_ending_here: max_so_far= max_ending_here<br>\n",
    "return max_so_far<br>\n",
    "pseudo code for [-2, -3, 4, -1,-2, 1,5,-3] <br>\n",
    "max_ending_here =max_so_far = 0<br>\n",
    "    \n",
    "    for i = 0; a[0]=-2; max_end_here = 0+-2; max_end_here =0 (<0)\n",
    "    for i = 1, a[1]=-3; max_end_here = 0+-3 ; max_end_here = 0\n",
    "    for i=2, a[2]=4; max_end_here = 0+4;max_so_far = 4(so_far<end 0<4)\n",
    "    for i=3, a[3]=-1 ;max_end_here=4+(-1)\n",
    "    ....\n",
    "    return max_so_far"
   ]
  },
  {
   "cell_type": "code",
   "execution_count": 5,
   "metadata": {},
   "outputs": [],
   "source": [
    "def maxSubArraySum(a,size): \n",
    "      \n",
    "    max_so_far = 0\n",
    "    max_ending_here = 0\n",
    "      \n",
    "    for i in range(0, size): \n",
    "        max_ending_here = max_ending_here + a[i] \n",
    "        if max_ending_here < 0: \n",
    "            max_ending_here = 0\n",
    "          \n",
    "        # Do not compare for all elements. Compare only    \n",
    "        # when  max_ending_here > 0 \n",
    "        elif (max_so_far < max_ending_here): \n",
    "            max_so_far = max_ending_here \n",
    "              \n",
    "    return max_so_far "
   ]
  },
  {
   "cell_type": "markdown",
   "metadata": {},
   "source": [
    "# return Len of last word in string\n",
    "https://leetcode.com/problems/length-of-last-word/"
   ]
  },
  {
   "cell_type": "code",
   "execution_count": 62,
   "metadata": {},
   "outputs": [
    {
     "data": {
      "text/plain": [
       "5"
      ]
     },
     "execution_count": 62,
     "metadata": {},
     "output_type": "execute_result"
    }
   ],
   "source": [
    "def lengthOfLastWord(s):\n",
    "     return len(s.strip().split(' ')[-1])\n",
    "\n",
    "lengthOfLastWord('Hello World')\n",
    "lengthOfLastWord('Hello World ')"
   ]
  },
  {
   "cell_type": "code",
   "execution_count": 34,
   "metadata": {},
   "outputs": [
    {
     "ename": "ValueError",
     "evalue": "empty separator",
     "output_type": "error",
     "traceback": [
      "\u001b[0;31m---------------------------------------------------------------------------\u001b[0m",
      "\u001b[0;31mValueError\u001b[0m                                Traceback (most recent call last)",
      "\u001b[0;32m<ipython-input-34-4171500d0739>\u001b[0m in \u001b[0;36m<module>\u001b[0;34m\u001b[0m\n\u001b[0;32m----> 1\u001b[0;31m \u001b[0;34m's'\u001b[0m\u001b[0;34m.\u001b[0m\u001b[0msplit\u001b[0m\u001b[0;34m(\u001b[0m\u001b[0;34m''\u001b[0m\u001b[0;34m)\u001b[0m\u001b[0;34m\u001b[0m\u001b[0;34m\u001b[0m\u001b[0m\n\u001b[0m",
      "\u001b[0;31mValueError\u001b[0m: empty separator"
     ]
    }
   ],
   "source": [
    "'s'.split('')"
   ]
  },
  {
   "cell_type": "code",
   "execution_count": 58,
   "metadata": {},
   "outputs": [
    {
     "data": {
      "text/plain": [
       "['']"
      ]
     },
     "execution_count": 58,
     "metadata": {},
     "output_type": "execute_result"
    }
   ],
   "source": [
    "a='a '\n",
    "\n",
    "(a.strip()).split(' ')\n",
    " "
   ]
  },
  {
   "cell_type": "code",
   "execution_count": 61,
   "metadata": {},
   "outputs": [
    {
     "data": {
      "text/plain": [
       "0"
      ]
     },
     "execution_count": 61,
     "metadata": {},
     "output_type": "execute_result"
    }
   ],
   "source": [
    "len(a.strip().split(' ')[-1])"
   ]
  },
  {
   "cell_type": "code",
   "execution_count": null,
   "metadata": {},
   "outputs": [],
   "source": []
  }
 ],
 "metadata": {
  "kernelspec": {
   "display_name": "Python 3",
   "language": "python",
   "name": "python3"
  },
  "language_info": {
   "codemirror_mode": {
    "name": "ipython",
    "version": 3
   },
   "file_extension": ".py",
   "mimetype": "text/x-python",
   "name": "python",
   "nbconvert_exporter": "python",
   "pygments_lexer": "ipython3",
   "version": "3.7.1"
  }
 },
 "nbformat": 4,
 "nbformat_minor": 2
}
